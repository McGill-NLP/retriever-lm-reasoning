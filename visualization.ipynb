{
  "cells": [
    {
      "cell_type": "code",
      "execution_count": 1,
      "metadata": {
        "colab": {
          "base_uri": "https://localhost:8080/"
        },
        "id": "jWyr5mK2HEoV",
        "outputId": "ca8c51dd-7532-4a4d-f2fb-b9cc630c2eae"
      },
      "outputs": [
        {
          "output_type": "stream",
          "name": "stdout",
          "text": [
            "Mounted at /content/drive\n"
          ]
        }
      ],
      "source": [
        "from google.colab import drive\n",
        "drive.mount('/content/drive')"
      ],
      "id": "jWyr5mK2HEoV"
    },
    {
      "cell_type": "code",
      "execution_count": 2,
      "metadata": {
        "id": "52d9a974",
        "colab": {
          "base_uri": "https://localhost:8080/"
        },
        "outputId": "8b4cb06c-3437-44d4-fd29-195441e85d41"
      },
      "outputs": [
        {
          "output_type": "stream",
          "name": "stdout",
          "text": [
            "Looking in indexes: https://pypi.org/simple, https://us-python.pkg.dev/colab-wheels/public/simple/\n",
            "Requirement already satisfied: plotly in /usr/local/lib/python3.8/dist-packages (5.5.0)\n",
            "Collecting plotly\n",
            "  Downloading plotly-5.13.1-py2.py3-none-any.whl (15.2 MB)\n",
            "\u001b[2K     \u001b[90m━━━━━━━━━━━━━━━━━━━━━━━━━━━━━━━━━━━━━━━━\u001b[0m \u001b[32m15.2/15.2 MB\u001b[0m \u001b[31m34.2 MB/s\u001b[0m eta \u001b[36m0:00:00\u001b[0m\n",
            "\u001b[?25hRequirement already satisfied: tenacity>=6.2.0 in /usr/local/lib/python3.8/dist-packages (from plotly) (8.2.1)\n",
            "Installing collected packages: plotly\n",
            "  Attempting uninstall: plotly\n",
            "    Found existing installation: plotly 5.5.0\n",
            "    Uninstalling plotly-5.5.0:\n",
            "      Successfully uninstalled plotly-5.5.0\n",
            "Successfully installed plotly-5.13.1\n",
            "Looking in indexes: https://pypi.org/simple, https://us-python.pkg.dev/colab-wheels/public/simple/\n",
            "Collecting kaleido==0.1.*\n",
            "  Downloading kaleido-0.1.0-py2.py3-none-manylinux1_x86_64.whl (74.6 MB)\n",
            "\u001b[2K     \u001b[90m━━━━━━━━━━━━━━━━━━━━━━━━━━━━━━━━━━━━━━━━\u001b[0m \u001b[32m74.6/74.6 MB\u001b[0m \u001b[31m10.8 MB/s\u001b[0m eta \u001b[36m0:00:00\u001b[0m\n",
            "\u001b[?25hInstalling collected packages: kaleido\n",
            "Successfully installed kaleido-0.1.0\n"
          ]
        }
      ],
      "source": [
        "!pip install -U plotly\n",
        "!pip install --upgrade \"kaleido==0.1.*\"\n",
        "import os\n",
        "if not os.path.exists(\"images\"):\n",
        "    os.mkdir(\"images\")\n",
        "\n",
        "import plotly.graph_objects as go\n",
        "import plotly.express as px\n",
        "from plotly.subplots import make_subplots\n",
        "import numpy as np"
      ],
      "id": "52d9a974"
    },
    {
      "cell_type": "markdown",
      "metadata": {
        "id": "a9484246"
      },
      "source": [
        "## LM Results"
      ],
      "id": "a9484246"
    },
    {
      "cell_type": "markdown",
      "source": [
        "Here are the results for LM on the test data. Target ranking is done between at most 5 alternative targets."
      ],
      "metadata": {
        "id": "rOSuwpu1a0t2"
      },
      "id": "rOSuwpu1a0t2"
    },
    {
      "cell_type": "code",
      "execution_count": 3,
      "metadata": {
        "id": "KLPcrMrzbDxZ"
      },
      "outputs": [],
      "source": [
        "lm_5 = {1: {}, 2: {}, 3: {}, 4: {}}  # EB1 (Easy), EB2 (Hard), EB3, StrategyQA\n",
        "lm_5[1]['REALM'] = {\n",
        "    'acc': [0.6583, 0.7750, 0.8042, 0.8167, 0.8083, 0.8208, 0.8208, 0.8208, 0.8208, 0.8208],\n",
        "    'hits1': [0.2125, 0.4042, 0.4917, 0.5167, 0.5375, 0.5583, 0.5500, 0.5500, 0.5500, 0.5500]\n",
        "}\n",
        "lm_5[1]['DPR + FiD'] = {\n",
        "    'acc': [0.6375, 0.7167, 0.7333, 0.7458, 0.7375, 0.7583, 0.7583, 0.7583, 0.7583, 0.7583],\n",
        "    'hits1': [0.1542, 0.1917, 0.2292, 0.2417, 0.2458, 0.2667, 0.2667, 0.2667, 0.2667, 0.2667]\n",
        "}\n",
        "lm_5[1]['DPR + Flan-T5'] = {\n",
        "    'acc': [0.3458, 0.3917, 0.4208, 0.4292, 0.4417, 0.4458, 0.4458, 0.4458, 0.4458, 0.4458],\n",
        "    'hits1': [0.1333, 0.1500, 0.1958, 0.1833, 0.1750, 0.1750, 0.1750, 0.1750, 0.1750, 0.1750]\n",
        "}\n",
        "lm_5[1]['kNN-LM'] = {\n",
        "    'acc': [0.5792, 0.5792, 0.5792, 0.5708, 0.5667, 0.5542, 0.5542, 0.5500, 0.5500, 0.5500],\n",
        "    'hits1': [0.4125, 0.4042, 0.4083, 0.4125, 0.4208, 0.4250, 0.4250, 0.4250, 0.4250, 0.4250]\n",
        "}\n",
        "lm_5[1]['Contriever + ATLAS'] = {\n",
        "    'acc': [0.7583, 0.7958, 0.8000, 0.8125, 0.8167, 0.8125, 0.8125, 0.8125, 0.8125, 0.8125],\n",
        "    'hits1': [0.3167, 0.5208, 0.5424, 0.5750, 0.5750, 0.5750, 0.5833, 0.5833, 0.5833, 0.5833]\n",
        "}"
      ],
      "id": "KLPcrMrzbDxZ"
    },
    {
      "cell_type": "code",
      "execution_count": 4,
      "metadata": {
        "id": "093BHolbbDxe"
      },
      "outputs": [],
      "source": [
        "lm_5[2]['REALM'] = {\n",
        "    'acc': [0.6958, 0.7529, 0.7719, 0.7947, 0.7871, 0.8061, 0.8327, 0.8289, 0.8251, 0.8251],\n",
        "    'hits1': [0.1787, 0.3004, 0.3422, 0.3992, 0.4449, 0.4981, 0.4943, 0.5475, 0.5513, 0.5513]\n",
        "}\n",
        "lm_5[2]['DPR + FiD'] = {\n",
        "    'acc': [0.6160, 0.6654, 0.6654, 0.6806, 0.6996, 0.7490, 0.7567, 0.7414, 0.7490, 0.7490],\n",
        "    'hits1': [0.0798, 0.0989, 0.1331, 0.1521, 0.1711, 0.2053, 0.2281, 0.2510, 0.2395, 0.2395]\n",
        "}\n",
        "lm_5[2]['DPR + Flan-T5'] = {\n",
        "    'acc': [0.3916, 0.3764, 0.3650, 0.3612, 0.3954, 0.3726, 0.3954, 0.3954, 0.3916, 0.3916],\n",
        "    'hits1': [0.0760, 0.0760, 0.0532, 0.0722, 0.0837, 0.0494, 0.0418, 0.0380, 0.0342, 0.0342]\n",
        "}\n",
        "lm_5[2]['kNN-LM'] = { # done\n",
        "    'acc': [0.5741, 0.6312, 0.6198, 0.6236, 0.6274, 0.6160, 0.6008, 0.5932, 0.5932, 0.5817],\n",
        "    'hits1': [0.4030, 0.4030, 0.4144, 0.4106, 0.4068, 0.4144, 0.4068, 0.3954, 0.3954, 0.3954]\n",
        "}\n",
        "lm_5[2]['Contriever + ATLAS'] = {\n",
        "    'acc': [0.8175, 0.8517, 0.8593, 0.8593, 0.8631, 0.8555, 0.8517, 0.8517, 0.8441, 0.8441],\n",
        "    'hits1': [0.3270, 0.4715, 0.5057, 0.5361, 0.5437, 0.5665, 0.5475, 0.5323, 0.5209, 0.5209]\n",
        "}"
      ],
      "id": "093BHolbbDxe"
    },
    {
      "cell_type": "code",
      "execution_count": 5,
      "metadata": {
        "id": "vHDRdGttbDxf"
      },
      "outputs": [],
      "source": [
        "lm_5[3]['REALM'] = {\n",
        "    'acc': [0.7336, 0.7722, 0.7876, 0.8069, 0.8108, 0.7954, 0.7838, 0.7838, 0.7876, 0.7876],\n",
        "    'hits1': [0.2432, 0.3398, 0.3938, 0.4324, 0.4517, 0.5212, 0.5135, 0.5328, 0.5444, 0.5444]\n",
        "}\n",
        "lm_5[3]['DPR + FiD'] = {\n",
        "    'acc': [0.6293, 0.6409, 0.6680, 0.6834, 0.6795, 0.7298, 0.7259, 0.7259, 0.7336, 0.7336],\n",
        "    'hits1': [0.1081, 0.1351, 0.1544, 0.1853, 0.2201, 0.2625, 0.2741, 0.2934, 0.2934, 0.2934]\n",
        "}\n",
        "lm_5[3]['DPR + Flan-T5'] = {\n",
        "    'acc': [0.3629, 0.3514, 0.3282, 0.3166, 0.3359, 0.3398, 0.3591, 0.3436, 0.3707, 0.3707],\n",
        "    'hits1': [0.1004, 0.1158, 0.1313,  0.1158, 0.1081, 0.0656, 0.0502, 0.0347, 0.0386, 0.0386]\n",
        "}\n",
        "lm_5[3]['kNN-LM'] = { \n",
        "    'acc': [0.6100, 0.6139, 0.6332, 0.6293, 0.6255, 0.6448, 0.6332, 0.6371, 0.6293, 0.6293],\n",
        "    'hits1': [0.4093, 0.4093, 0.4208, 0.4170, 0.4170, 0.4131, 0.4208, 0.4208, 0.4208, 0.4208]\n",
        "}\n",
        "lm_5[3]['Contriever + ATLAS'] = { \n",
        "    'acc': [0.8147, 0.8224, 0.8417, 0.8456, 0.8533, 0.8571, 0.8456, 0.8649, 0.8610, 0.8610],\n",
        "    'hits1': [0.3436, 0.4440, 0.4826, 0.5212, 0.5405, 0.5676, 0.5907, 0.6100, 0.5985, 0.5985]\n",
        "}"
      ],
      "id": "vHDRdGttbDxf"
    },
    {
      "cell_type": "code",
      "execution_count": 6,
      "metadata": {
        "id": "kUjTIi6UbDxf"
      },
      "outputs": [],
      "source": [
        "lm_5[4]['REALM'] = {\n",
        "    'acc': [0.4631, 0.6331, 0.6801, 0.6823, 0.6846, 0.6846, 0.6846, 0.6846, 0.6846, 0.6846],\n",
        "    'hits1': [0.1790, 0.3781, 0.4295, 0.4340, 0.4362, 0.4362, 0.4362, 0.4362, 0.4362, 0.4362]\n",
        "}\n",
        "lm_5[4]['DPR + FiD'] = {\n",
        "    'acc': [0.3512, 0.4183, 0.4519, 0.4586, 0.4586, 0.4586, 0.4586, 0.4586, 0.4586, 0.4586],\n",
        "    'hits1': [0.1477, 0.2170, 0.2304, 0.2461, 0.2461, 0.2461, 0.2461, 0.2461, 0.2461, 0.2461]\n",
        "}\n",
        "lm_5[4]['DPR + Flan-T5'] = {\n",
        "    'acc': [0.2662, 0.2998, 0.3199, 0.3244, 0.3244, 0.3244, 0.3244, 0.3244, 0.3244, 0.3244],\n",
        "    'hits1': [0.1119, 0.2438, 0.3289, 0.3400, 0.3400, 0.3400, 0.3400, 0.3400, 0.3400, 0.3400]\n",
        "}\n",
        "lm_5[4]['kNN-LM'] = {\n",
        "    'acc': [0.2506, 0.2595, 0.2573, 0.2506, 0.2506, 0.2416, 0.2416, 0.2394, 0.2394, 0.2394],\n",
        "    'hits1': [0.2237, 0.2192, 0.2237, 0.2304, 0.2304, 0.2349, 0.2349, 0.2349, 0.2371, 0.2371]\n",
        "}\n",
        "lm_5[4]['Contriever + ATLAS'] = {\n",
        "    'acc': [0.3736, 0.5347, 0.5615, 0.5794, 0.5794, 0.5794, 0.5794, 0.5794, 0.5794, 0.5794],\n",
        "    'hits1': [0.1857, 0.3356, 0.3691, 0.3669, 0.3669, 0.3669, 0.3669, 0.3669, 0.3669, 0.3669]\n",
        "}"
      ],
      "id": "kUjTIi6UbDxf"
    },
    {
      "cell_type": "code",
      "source": [
        "symbols = ['circle', 'square', 'triangle-right', 'star', 'x']\n",
        "colors = px.colors.qualitative.Plotly"
      ],
      "metadata": {
        "id": "v_LinBvncg3Z"
      },
      "id": "v_LinBvncg3Z",
      "execution_count": 9,
      "outputs": []
    },
    {
      "cell_type": "code",
      "source": [
        "# EB-1, EB-2, and SQA - 1x3\n",
        "x = np.array([1, 2, 3, 4, 5, 10, 15, 20, 25])\n",
        "\n",
        "fig = make_subplots(rows=1, cols=3, subplot_titles=(\"EntailmentBank-Easy\", \"EntailmentBank-Hard\", \"StrategyQA\"), horizontal_spacing = 0.04,\n",
        "                    x_title='# of retrieved statements',)\n",
        "for eb in [1, 2, 4]:\n",
        "    if eb > 3:\n",
        "      col = 3\n",
        "    else:\n",
        "      col = eb\n",
        "    for i, (model, ys) in enumerate(lm_5[eb].items()):\n",
        "        if eb == 1:\n",
        "            fig.add_trace(go.Scatter(x=x, y=[y*100 for y in ys['acc']], name=model, line_shape='spline', marker_symbol=symbols[i], marker_color=colors[i], showlegend=True), row=1, col=col)\n",
        "        else:\n",
        "            fig.add_trace(go.Scatter(x=x, y=[y*100 for y in ys['acc']], name=model, line_shape='spline', marker_symbol=symbols[i], marker_color=colors[i], showlegend=False), row=1, col=col)\n",
        "\n",
        "\n",
        "fig.update_xaxes(type=\"log\", tickvals=x)\n",
        "fig.update_yaxes(range=[20, 90])\n",
        "\n",
        "fig.add_annotation(dict(x=-0.05,\n",
        "                            y=0.5,\n",
        "                            showarrow=False,\n",
        "                            font_size=12,\n",
        "                            text='Target ranking accuracy',\n",
        "                            textangle=-90,\n",
        "                            xref=\"paper\",\n",
        "                            yref=\"paper\"\n",
        "                           )\n",
        "                  )\n",
        "fig.update_layout(legend=dict(\n",
        "    orientation=\"h\",\n",
        "    yanchor=\"top\",\n",
        "    y=1.3,\n",
        "    xanchor=\"left\",\n",
        "    x=0.13,\n",
        "    font_size=11\n",
        "))\n",
        "fig.update_layout(font_size=12)\n",
        "fig.update_annotations(font=dict(size=12))\n",
        "fig.update_layout(autosize=False, width=800, height=250)\n",
        "fig.update_layout(margin=dict(l=40,r=0,b=50,t=20))\n",
        "fig.show()"
      ],
      "metadata": {
        "colab": {
          "base_uri": "https://localhost:8080/",
          "height": 267
        },
        "id": "9fUMt5VuPSqx",
        "outputId": "89ec870f-796b-4aa9-9269-3576a65fbdd4"
      },
      "id": "9fUMt5VuPSqx",
      "execution_count": 10,
      "outputs": [
        {
          "output_type": "display_data",
          "data": {
            "text/html": [
              "<html>\n",
              "<head><meta charset=\"utf-8\" /></head>\n",
              "<body>\n",
              "    <div>            <script src=\"https://cdnjs.cloudflare.com/ajax/libs/mathjax/2.7.5/MathJax.js?config=TeX-AMS-MML_SVG\"></script><script type=\"text/javascript\">if (window.MathJax && window.MathJax.Hub && window.MathJax.Hub.Config) {window.MathJax.Hub.Config({SVG: {font: \"STIX-Web\"}});}</script>                <script type=\"text/javascript\">window.PlotlyConfig = {MathJaxConfig: 'local'};</script>\n",
              "        <script src=\"https://cdn.plot.ly/plotly-2.18.2.min.js\"></script>                <div id=\"47c84db6-e6fa-4eb4-ae4a-3301f5446b76\" class=\"plotly-graph-div\" style=\"height:250px; width:800px;\"></div>            <script type=\"text/javascript\">                                    window.PLOTLYENV=window.PLOTLYENV || {};                                    if (document.getElementById(\"47c84db6-e6fa-4eb4-ae4a-3301f5446b76\")) {                    Plotly.newPlot(                        \"47c84db6-e6fa-4eb4-ae4a-3301f5446b76\",                        [{\"line\":{\"shape\":\"spline\"},\"marker\":{\"color\":\"#636EFA\",\"symbol\":\"circle\"},\"name\":\"REALM\",\"showlegend\":true,\"x\":[1,2,3,4,5,10,15,20,25],\"y\":[65.83,77.5,80.42,81.67,80.83,82.08,82.08,82.08,82.08,82.08],\"type\":\"scatter\",\"xaxis\":\"x\",\"yaxis\":\"y\"},{\"line\":{\"shape\":\"spline\"},\"marker\":{\"color\":\"#EF553B\",\"symbol\":\"square\"},\"name\":\"DPR + FiD\",\"showlegend\":true,\"x\":[1,2,3,4,5,10,15,20,25],\"y\":[63.74999999999999,71.67,73.33,74.58,73.75,75.83,75.83,75.83,75.83,75.83],\"type\":\"scatter\",\"xaxis\":\"x\",\"yaxis\":\"y\"},{\"line\":{\"shape\":\"spline\"},\"marker\":{\"color\":\"#00CC96\",\"symbol\":\"triangle-right\"},\"name\":\"DPR + Flan-T5\",\"showlegend\":true,\"x\":[1,2,3,4,5,10,15,20,25],\"y\":[34.58,39.17,42.08,42.92,44.17,44.58,44.58,44.58,44.58,44.58],\"type\":\"scatter\",\"xaxis\":\"x\",\"yaxis\":\"y\"},{\"line\":{\"shape\":\"spline\"},\"marker\":{\"color\":\"#AB63FA\",\"symbol\":\"star\"},\"name\":\"kNN-LM\",\"showlegend\":true,\"x\":[1,2,3,4,5,10,15,20,25],\"y\":[57.92,57.92,57.92,57.08,56.67,55.42,55.42,55.00000000000001,55.00000000000001,55.00000000000001],\"type\":\"scatter\",\"xaxis\":\"x\",\"yaxis\":\"y\"},{\"line\":{\"shape\":\"spline\"},\"marker\":{\"color\":\"#FFA15A\",\"symbol\":\"x\"},\"name\":\"Contriever + ATLAS\",\"showlegend\":true,\"x\":[1,2,3,4,5,10,15,20,25],\"y\":[75.83,79.58,80.0,81.25,81.67,81.25,81.25,81.25,81.25,81.25],\"type\":\"scatter\",\"xaxis\":\"x\",\"yaxis\":\"y\"},{\"line\":{\"shape\":\"spline\"},\"marker\":{\"color\":\"#636EFA\",\"symbol\":\"circle\"},\"name\":\"REALM\",\"showlegend\":false,\"x\":[1,2,3,4,5,10,15,20,25],\"y\":[69.58,75.29,77.19,79.47,78.71000000000001,80.61,83.27,82.89,82.50999999999999,82.50999999999999],\"type\":\"scatter\",\"xaxis\":\"x2\",\"yaxis\":\"y2\"},{\"line\":{\"shape\":\"spline\"},\"marker\":{\"color\":\"#EF553B\",\"symbol\":\"square\"},\"name\":\"DPR + FiD\",\"showlegend\":false,\"x\":[1,2,3,4,5,10,15,20,25],\"y\":[61.6,66.53999999999999,66.53999999999999,68.06,69.96,74.9,75.67,74.14,74.9,74.9],\"type\":\"scatter\",\"xaxis\":\"x2\",\"yaxis\":\"y2\"},{\"line\":{\"shape\":\"spline\"},\"marker\":{\"color\":\"#00CC96\",\"symbol\":\"triangle-right\"},\"name\":\"DPR + Flan-T5\",\"showlegend\":false,\"x\":[1,2,3,4,5,10,15,20,25],\"y\":[39.160000000000004,37.64,36.5,36.120000000000005,39.54,37.26,39.54,39.54,39.160000000000004,39.160000000000004],\"type\":\"scatter\",\"xaxis\":\"x2\",\"yaxis\":\"y2\"},{\"line\":{\"shape\":\"spline\"},\"marker\":{\"color\":\"#AB63FA\",\"symbol\":\"star\"},\"name\":\"kNN-LM\",\"showlegend\":false,\"x\":[1,2,3,4,5,10,15,20,25],\"y\":[57.410000000000004,63.12,61.980000000000004,62.36000000000001,62.739999999999995,61.6,60.08,59.31999999999999,59.31999999999999,58.17],\"type\":\"scatter\",\"xaxis\":\"x2\",\"yaxis\":\"y2\"},{\"line\":{\"shape\":\"spline\"},\"marker\":{\"color\":\"#FFA15A\",\"symbol\":\"x\"},\"name\":\"Contriever + ATLAS\",\"showlegend\":false,\"x\":[1,2,3,4,5,10,15,20,25],\"y\":[81.75,85.17,85.92999999999999,85.92999999999999,86.31,85.55,85.17,85.17,84.41,84.41],\"type\":\"scatter\",\"xaxis\":\"x2\",\"yaxis\":\"y2\"},{\"line\":{\"shape\":\"spline\"},\"marker\":{\"color\":\"#636EFA\",\"symbol\":\"circle\"},\"name\":\"REALM\",\"showlegend\":false,\"x\":[1,2,3,4,5,10,15,20,25],\"y\":[46.31,63.31,68.01,68.23,68.46,68.46,68.46,68.46,68.46,68.46],\"type\":\"scatter\",\"xaxis\":\"x3\",\"yaxis\":\"y3\"},{\"line\":{\"shape\":\"spline\"},\"marker\":{\"color\":\"#EF553B\",\"symbol\":\"square\"},\"name\":\"DPR + FiD\",\"showlegend\":false,\"x\":[1,2,3,4,5,10,15,20,25],\"y\":[35.120000000000005,41.83,45.190000000000005,45.86,45.86,45.86,45.86,45.86,45.86,45.86],\"type\":\"scatter\",\"xaxis\":\"x3\",\"yaxis\":\"y3\"},{\"line\":{\"shape\":\"spline\"},\"marker\":{\"color\":\"#00CC96\",\"symbol\":\"triangle-right\"},\"name\":\"DPR + Flan-T5\",\"showlegend\":false,\"x\":[1,2,3,4,5,10,15,20,25],\"y\":[26.619999999999997,29.98,31.990000000000002,32.440000000000005,32.440000000000005,32.440000000000005,32.440000000000005,32.440000000000005,32.440000000000005,32.440000000000005],\"type\":\"scatter\",\"xaxis\":\"x3\",\"yaxis\":\"y3\"},{\"line\":{\"shape\":\"spline\"},\"marker\":{\"color\":\"#AB63FA\",\"symbol\":\"star\"},\"name\":\"kNN-LM\",\"showlegend\":false,\"x\":[1,2,3,4,5,10,15,20,25],\"y\":[25.06,25.95,25.729999999999997,25.06,25.06,24.16,24.16,23.94,23.94,23.94],\"type\":\"scatter\",\"xaxis\":\"x3\",\"yaxis\":\"y3\"},{\"line\":{\"shape\":\"spline\"},\"marker\":{\"color\":\"#FFA15A\",\"symbol\":\"x\"},\"name\":\"Contriever + ATLAS\",\"showlegend\":false,\"x\":[1,2,3,4,5,10,15,20,25],\"y\":[37.36,53.47,56.15,57.940000000000005,57.940000000000005,57.940000000000005,57.940000000000005,57.940000000000005,57.940000000000005,57.940000000000005],\"type\":\"scatter\",\"xaxis\":\"x3\",\"yaxis\":\"y3\"}],                        {\"template\":{\"data\":{\"histogram2dcontour\":[{\"type\":\"histogram2dcontour\",\"colorbar\":{\"outlinewidth\":0,\"ticks\":\"\"},\"colorscale\":[[0.0,\"#0d0887\"],[0.1111111111111111,\"#46039f\"],[0.2222222222222222,\"#7201a8\"],[0.3333333333333333,\"#9c179e\"],[0.4444444444444444,\"#bd3786\"],[0.5555555555555556,\"#d8576b\"],[0.6666666666666666,\"#ed7953\"],[0.7777777777777778,\"#fb9f3a\"],[0.8888888888888888,\"#fdca26\"],[1.0,\"#f0f921\"]]}],\"choropleth\":[{\"type\":\"choropleth\",\"colorbar\":{\"outlinewidth\":0,\"ticks\":\"\"}}],\"histogram2d\":[{\"type\":\"histogram2d\",\"colorbar\":{\"outlinewidth\":0,\"ticks\":\"\"},\"colorscale\":[[0.0,\"#0d0887\"],[0.1111111111111111,\"#46039f\"],[0.2222222222222222,\"#7201a8\"],[0.3333333333333333,\"#9c179e\"],[0.4444444444444444,\"#bd3786\"],[0.5555555555555556,\"#d8576b\"],[0.6666666666666666,\"#ed7953\"],[0.7777777777777778,\"#fb9f3a\"],[0.8888888888888888,\"#fdca26\"],[1.0,\"#f0f921\"]]}],\"heatmap\":[{\"type\":\"heatmap\",\"colorbar\":{\"outlinewidth\":0,\"ticks\":\"\"},\"colorscale\":[[0.0,\"#0d0887\"],[0.1111111111111111,\"#46039f\"],[0.2222222222222222,\"#7201a8\"],[0.3333333333333333,\"#9c179e\"],[0.4444444444444444,\"#bd3786\"],[0.5555555555555556,\"#d8576b\"],[0.6666666666666666,\"#ed7953\"],[0.7777777777777778,\"#fb9f3a\"],[0.8888888888888888,\"#fdca26\"],[1.0,\"#f0f921\"]]}],\"heatmapgl\":[{\"type\":\"heatmapgl\",\"colorbar\":{\"outlinewidth\":0,\"ticks\":\"\"},\"colorscale\":[[0.0,\"#0d0887\"],[0.1111111111111111,\"#46039f\"],[0.2222222222222222,\"#7201a8\"],[0.3333333333333333,\"#9c179e\"],[0.4444444444444444,\"#bd3786\"],[0.5555555555555556,\"#d8576b\"],[0.6666666666666666,\"#ed7953\"],[0.7777777777777778,\"#fb9f3a\"],[0.8888888888888888,\"#fdca26\"],[1.0,\"#f0f921\"]]}],\"contourcarpet\":[{\"type\":\"contourcarpet\",\"colorbar\":{\"outlinewidth\":0,\"ticks\":\"\"}}],\"contour\":[{\"type\":\"contour\",\"colorbar\":{\"outlinewidth\":0,\"ticks\":\"\"},\"colorscale\":[[0.0,\"#0d0887\"],[0.1111111111111111,\"#46039f\"],[0.2222222222222222,\"#7201a8\"],[0.3333333333333333,\"#9c179e\"],[0.4444444444444444,\"#bd3786\"],[0.5555555555555556,\"#d8576b\"],[0.6666666666666666,\"#ed7953\"],[0.7777777777777778,\"#fb9f3a\"],[0.8888888888888888,\"#fdca26\"],[1.0,\"#f0f921\"]]}],\"surface\":[{\"type\":\"surface\",\"colorbar\":{\"outlinewidth\":0,\"ticks\":\"\"},\"colorscale\":[[0.0,\"#0d0887\"],[0.1111111111111111,\"#46039f\"],[0.2222222222222222,\"#7201a8\"],[0.3333333333333333,\"#9c179e\"],[0.4444444444444444,\"#bd3786\"],[0.5555555555555556,\"#d8576b\"],[0.6666666666666666,\"#ed7953\"],[0.7777777777777778,\"#fb9f3a\"],[0.8888888888888888,\"#fdca26\"],[1.0,\"#f0f921\"]]}],\"mesh3d\":[{\"type\":\"mesh3d\",\"colorbar\":{\"outlinewidth\":0,\"ticks\":\"\"}}],\"scatter\":[{\"fillpattern\":{\"fillmode\":\"overlay\",\"size\":10,\"solidity\":0.2},\"type\":\"scatter\"}],\"parcoords\":[{\"type\":\"parcoords\",\"line\":{\"colorbar\":{\"outlinewidth\":0,\"ticks\":\"\"}}}],\"scatterpolargl\":[{\"type\":\"scatterpolargl\",\"marker\":{\"colorbar\":{\"outlinewidth\":0,\"ticks\":\"\"}}}],\"bar\":[{\"error_x\":{\"color\":\"#2a3f5f\"},\"error_y\":{\"color\":\"#2a3f5f\"},\"marker\":{\"line\":{\"color\":\"#E5ECF6\",\"width\":0.5},\"pattern\":{\"fillmode\":\"overlay\",\"size\":10,\"solidity\":0.2}},\"type\":\"bar\"}],\"scattergeo\":[{\"type\":\"scattergeo\",\"marker\":{\"colorbar\":{\"outlinewidth\":0,\"ticks\":\"\"}}}],\"scatterpolar\":[{\"type\":\"scatterpolar\",\"marker\":{\"colorbar\":{\"outlinewidth\":0,\"ticks\":\"\"}}}],\"histogram\":[{\"marker\":{\"pattern\":{\"fillmode\":\"overlay\",\"size\":10,\"solidity\":0.2}},\"type\":\"histogram\"}],\"scattergl\":[{\"type\":\"scattergl\",\"marker\":{\"colorbar\":{\"outlinewidth\":0,\"ticks\":\"\"}}}],\"scatter3d\":[{\"type\":\"scatter3d\",\"line\":{\"colorbar\":{\"outlinewidth\":0,\"ticks\":\"\"}},\"marker\":{\"colorbar\":{\"outlinewidth\":0,\"ticks\":\"\"}}}],\"scattermapbox\":[{\"type\":\"scattermapbox\",\"marker\":{\"colorbar\":{\"outlinewidth\":0,\"ticks\":\"\"}}}],\"scatterternary\":[{\"type\":\"scatterternary\",\"marker\":{\"colorbar\":{\"outlinewidth\":0,\"ticks\":\"\"}}}],\"scattercarpet\":[{\"type\":\"scattercarpet\",\"marker\":{\"colorbar\":{\"outlinewidth\":0,\"ticks\":\"\"}}}],\"carpet\":[{\"aaxis\":{\"endlinecolor\":\"#2a3f5f\",\"gridcolor\":\"white\",\"linecolor\":\"white\",\"minorgridcolor\":\"white\",\"startlinecolor\":\"#2a3f5f\"},\"baxis\":{\"endlinecolor\":\"#2a3f5f\",\"gridcolor\":\"white\",\"linecolor\":\"white\",\"minorgridcolor\":\"white\",\"startlinecolor\":\"#2a3f5f\"},\"type\":\"carpet\"}],\"table\":[{\"cells\":{\"fill\":{\"color\":\"#EBF0F8\"},\"line\":{\"color\":\"white\"}},\"header\":{\"fill\":{\"color\":\"#C8D4E3\"},\"line\":{\"color\":\"white\"}},\"type\":\"table\"}],\"barpolar\":[{\"marker\":{\"line\":{\"color\":\"#E5ECF6\",\"width\":0.5},\"pattern\":{\"fillmode\":\"overlay\",\"size\":10,\"solidity\":0.2}},\"type\":\"barpolar\"}],\"pie\":[{\"automargin\":true,\"type\":\"pie\"}]},\"layout\":{\"autotypenumbers\":\"strict\",\"colorway\":[\"#636efa\",\"#EF553B\",\"#00cc96\",\"#ab63fa\",\"#FFA15A\",\"#19d3f3\",\"#FF6692\",\"#B6E880\",\"#FF97FF\",\"#FECB52\"],\"font\":{\"color\":\"#2a3f5f\"},\"hovermode\":\"closest\",\"hoverlabel\":{\"align\":\"left\"},\"paper_bgcolor\":\"white\",\"plot_bgcolor\":\"#E5ECF6\",\"polar\":{\"bgcolor\":\"#E5ECF6\",\"angularaxis\":{\"gridcolor\":\"white\",\"linecolor\":\"white\",\"ticks\":\"\"},\"radialaxis\":{\"gridcolor\":\"white\",\"linecolor\":\"white\",\"ticks\":\"\"}},\"ternary\":{\"bgcolor\":\"#E5ECF6\",\"aaxis\":{\"gridcolor\":\"white\",\"linecolor\":\"white\",\"ticks\":\"\"},\"baxis\":{\"gridcolor\":\"white\",\"linecolor\":\"white\",\"ticks\":\"\"},\"caxis\":{\"gridcolor\":\"white\",\"linecolor\":\"white\",\"ticks\":\"\"}},\"coloraxis\":{\"colorbar\":{\"outlinewidth\":0,\"ticks\":\"\"}},\"colorscale\":{\"sequential\":[[0.0,\"#0d0887\"],[0.1111111111111111,\"#46039f\"],[0.2222222222222222,\"#7201a8\"],[0.3333333333333333,\"#9c179e\"],[0.4444444444444444,\"#bd3786\"],[0.5555555555555556,\"#d8576b\"],[0.6666666666666666,\"#ed7953\"],[0.7777777777777778,\"#fb9f3a\"],[0.8888888888888888,\"#fdca26\"],[1.0,\"#f0f921\"]],\"sequentialminus\":[[0.0,\"#0d0887\"],[0.1111111111111111,\"#46039f\"],[0.2222222222222222,\"#7201a8\"],[0.3333333333333333,\"#9c179e\"],[0.4444444444444444,\"#bd3786\"],[0.5555555555555556,\"#d8576b\"],[0.6666666666666666,\"#ed7953\"],[0.7777777777777778,\"#fb9f3a\"],[0.8888888888888888,\"#fdca26\"],[1.0,\"#f0f921\"]],\"diverging\":[[0,\"#8e0152\"],[0.1,\"#c51b7d\"],[0.2,\"#de77ae\"],[0.3,\"#f1b6da\"],[0.4,\"#fde0ef\"],[0.5,\"#f7f7f7\"],[0.6,\"#e6f5d0\"],[0.7,\"#b8e186\"],[0.8,\"#7fbc41\"],[0.9,\"#4d9221\"],[1,\"#276419\"]]},\"xaxis\":{\"gridcolor\":\"white\",\"linecolor\":\"white\",\"ticks\":\"\",\"title\":{\"standoff\":15},\"zerolinecolor\":\"white\",\"automargin\":true,\"zerolinewidth\":2},\"yaxis\":{\"gridcolor\":\"white\",\"linecolor\":\"white\",\"ticks\":\"\",\"title\":{\"standoff\":15},\"zerolinecolor\":\"white\",\"automargin\":true,\"zerolinewidth\":2},\"scene\":{\"xaxis\":{\"backgroundcolor\":\"#E5ECF6\",\"gridcolor\":\"white\",\"linecolor\":\"white\",\"showbackground\":true,\"ticks\":\"\",\"zerolinecolor\":\"white\",\"gridwidth\":2},\"yaxis\":{\"backgroundcolor\":\"#E5ECF6\",\"gridcolor\":\"white\",\"linecolor\":\"white\",\"showbackground\":true,\"ticks\":\"\",\"zerolinecolor\":\"white\",\"gridwidth\":2},\"zaxis\":{\"backgroundcolor\":\"#E5ECF6\",\"gridcolor\":\"white\",\"linecolor\":\"white\",\"showbackground\":true,\"ticks\":\"\",\"zerolinecolor\":\"white\",\"gridwidth\":2}},\"shapedefaults\":{\"line\":{\"color\":\"#2a3f5f\"}},\"annotationdefaults\":{\"arrowcolor\":\"#2a3f5f\",\"arrowhead\":0,\"arrowwidth\":1},\"geo\":{\"bgcolor\":\"white\",\"landcolor\":\"#E5ECF6\",\"subunitcolor\":\"white\",\"showland\":true,\"showlakes\":true,\"lakecolor\":\"white\"},\"title\":{\"x\":0.05},\"mapbox\":{\"style\":\"light\"}}},\"xaxis\":{\"anchor\":\"y\",\"domain\":[0.0,0.3066666666666667],\"type\":\"log\",\"tickvals\":[1,2,3,4,5,10,15,20,25]},\"yaxis\":{\"anchor\":\"x\",\"domain\":[0.0,1.0],\"range\":[20,90]},\"xaxis2\":{\"anchor\":\"y2\",\"domain\":[0.3466666666666667,0.6533333333333333],\"type\":\"log\",\"tickvals\":[1,2,3,4,5,10,15,20,25]},\"yaxis2\":{\"anchor\":\"x2\",\"domain\":[0.0,1.0],\"range\":[20,90]},\"xaxis3\":{\"anchor\":\"y3\",\"domain\":[0.6933333333333334,1.0],\"type\":\"log\",\"tickvals\":[1,2,3,4,5,10,15,20,25]},\"yaxis3\":{\"anchor\":\"x3\",\"domain\":[0.0,1.0],\"range\":[20,90]},\"annotations\":[{\"font\":{\"size\":12},\"showarrow\":false,\"text\":\"EntailmentBank-Easy\",\"x\":0.15333333333333335,\"xanchor\":\"center\",\"xref\":\"paper\",\"y\":1.0,\"yanchor\":\"bottom\",\"yref\":\"paper\"},{\"font\":{\"size\":12},\"showarrow\":false,\"text\":\"EntailmentBank-Hard\",\"x\":0.5,\"xanchor\":\"center\",\"xref\":\"paper\",\"y\":1.0,\"yanchor\":\"bottom\",\"yref\":\"paper\"},{\"font\":{\"size\":12},\"showarrow\":false,\"text\":\"StrategyQA\",\"x\":0.8466666666666667,\"xanchor\":\"center\",\"xref\":\"paper\",\"y\":1.0,\"yanchor\":\"bottom\",\"yref\":\"paper\"},{\"font\":{\"size\":12},\"showarrow\":false,\"text\":\"# of retrieved statements\",\"x\":0.5,\"xanchor\":\"center\",\"xref\":\"paper\",\"y\":0,\"yanchor\":\"top\",\"yref\":\"paper\",\"yshift\":-30},{\"font\":{\"size\":12},\"showarrow\":false,\"text\":\"Target ranking accuracy\",\"textangle\":-90,\"x\":-0.05,\"xref\":\"paper\",\"y\":0.5,\"yref\":\"paper\"}],\"legend\":{\"font\":{\"size\":11},\"orientation\":\"h\",\"yanchor\":\"top\",\"y\":1.3,\"xanchor\":\"left\",\"x\":0.13},\"font\":{\"size\":12},\"autosize\":false,\"width\":800,\"height\":250,\"margin\":{\"l\":40,\"r\":0,\"b\":50,\"t\":20}},                        {\"responsive\": true}                    ).then(function(){\n",
              "                            \n",
              "var gd = document.getElementById('47c84db6-e6fa-4eb4-ae4a-3301f5446b76');\n",
              "var x = new MutationObserver(function (mutations, observer) {{\n",
              "        var display = window.getComputedStyle(gd).display;\n",
              "        if (!display || display === 'none') {{\n",
              "            console.log([gd, 'removed!']);\n",
              "            Plotly.purge(gd);\n",
              "            observer.disconnect();\n",
              "        }}\n",
              "}});\n",
              "\n",
              "// Listen for the removal of the full notebook cells\n",
              "var notebookContainer = gd.closest('#notebook-container');\n",
              "if (notebookContainer) {{\n",
              "    x.observe(notebookContainer, {childList: true});\n",
              "}}\n",
              "\n",
              "// Listen for the clearing of the current output cell\n",
              "var outputEl = gd.closest('.output');\n",
              "if (outputEl) {{\n",
              "    x.observe(outputEl, {childList: true});\n",
              "}}\n",
              "\n",
              "                        })                };                            </script>        </div>\n",
              "</body>\n",
              "</html>"
            ]
          },
          "metadata": {}
        }
      ]
    },
    {
      "cell_type": "code",
      "source": [
        "# EB-1, EB-2, and SQA - 1x3\n",
        "x = np.array([1, 2, 3, 4, 5, 10, 15, 20, 25])\n",
        "\n",
        "fig = make_subplots(rows=1, cols=3, subplot_titles=(\"EntailmentBank-Easy\", \"EntailmentBank-Hard\", \"StrategyQA\"), horizontal_spacing = 0.04,\n",
        "                    x_title='# of retrieved statements',)\n",
        "for eb in [1, 2, 4]:\n",
        "    if eb > 3:\n",
        "      col = 3\n",
        "    else:\n",
        "      col = eb\n",
        "    for i, (model, ys) in enumerate(lm_5[eb].items()):\n",
        "        if eb == 1:\n",
        "            fig.add_trace(go.Scatter(x=x, y=[y*100 for y in ys['hits1']], name=model, line_shape='spline', marker_symbol=symbols[i], marker_color=colors[i], showlegend=True), row=1, col=col)\n",
        "        else:\n",
        "            fig.add_trace(go.Scatter(x=x, y=[y*100 for y in ys['hits1']], name=model, line_shape='spline', marker_symbol=symbols[i], marker_color=colors[i], showlegend=False), row=1, col=col)\n",
        "\n",
        "\n",
        "fig.update_xaxes(type=\"log\", tickvals=x)\n",
        "fig.update_yaxes(range=[0, 70])\n",
        "fig.update_layout(legend=dict(\n",
        "    orientation=\"h\",\n",
        "    yanchor=\"top\",\n",
        "    y=1.3,\n",
        "    xanchor=\"left\",\n",
        "    x=0.13,\n",
        "    font_size=12\n",
        "))\n",
        "fig.add_annotation(dict(x=-0.05,\n",
        "                            y=0.5,\n",
        "                            showarrow=False,\n",
        "                            font_size=12,\n",
        "                            text='Next token prediction accuracy',\n",
        "                            textangle=-90,\n",
        "                            xref=\"paper\",\n",
        "                            yref=\"paper\"\n",
        "                           )\n",
        "                  )\n",
        "fig.update_layout(legend=dict(\n",
        "    orientation=\"h\",\n",
        "    yanchor=\"top\",\n",
        "    y=1.3,\n",
        "    xanchor=\"left\",\n",
        "    x=0.13,\n",
        "    font_size=11\n",
        "))\n",
        "fig.update_layout(font_size=12)\n",
        "fig.update_annotations(font=dict(size=12))\n",
        "fig.update_layout(autosize=False, width=800, height=250)\n",
        "fig.update_layout(margin=dict(l=40,r=0,b=50,t=20))\n",
        "fig.show()"
      ],
      "metadata": {
        "colab": {
          "base_uri": "https://localhost:8080/",
          "height": 267
        },
        "id": "7PMEnIwWQZI_",
        "outputId": "5b8a5480-66b5-4632-f816-26e31ca8d35d"
      },
      "id": "7PMEnIwWQZI_",
      "execution_count": 11,
      "outputs": [
        {
          "output_type": "display_data",
          "data": {
            "text/html": [
              "<html>\n",
              "<head><meta charset=\"utf-8\" /></head>\n",
              "<body>\n",
              "    <div>            <script src=\"https://cdnjs.cloudflare.com/ajax/libs/mathjax/2.7.5/MathJax.js?config=TeX-AMS-MML_SVG\"></script><script type=\"text/javascript\">if (window.MathJax && window.MathJax.Hub && window.MathJax.Hub.Config) {window.MathJax.Hub.Config({SVG: {font: \"STIX-Web\"}});}</script>                <script type=\"text/javascript\">window.PlotlyConfig = {MathJaxConfig: 'local'};</script>\n",
              "        <script src=\"https://cdn.plot.ly/plotly-2.18.2.min.js\"></script>                <div id=\"efce8b71-4416-49bc-8b6c-8a77b4710733\" class=\"plotly-graph-div\" style=\"height:250px; width:800px;\"></div>            <script type=\"text/javascript\">                                    window.PLOTLYENV=window.PLOTLYENV || {};                                    if (document.getElementById(\"efce8b71-4416-49bc-8b6c-8a77b4710733\")) {                    Plotly.newPlot(                        \"efce8b71-4416-49bc-8b6c-8a77b4710733\",                        [{\"line\":{\"shape\":\"spline\"},\"marker\":{\"color\":\"#636EFA\",\"symbol\":\"circle\"},\"name\":\"REALM\",\"showlegend\":true,\"x\":[1,2,3,4,5,10,15,20,25],\"y\":[21.25,40.42,49.17,51.67,53.75,55.83,55.00000000000001,55.00000000000001,55.00000000000001,55.00000000000001],\"type\":\"scatter\",\"xaxis\":\"x\",\"yaxis\":\"y\"},{\"line\":{\"shape\":\"spline\"},\"marker\":{\"color\":\"#EF553B\",\"symbol\":\"square\"},\"name\":\"DPR + FiD\",\"showlegend\":true,\"x\":[1,2,3,4,5,10,15,20,25],\"y\":[15.42,19.17,22.919999999999998,24.169999999999998,24.58,26.669999999999998,26.669999999999998,26.669999999999998,26.669999999999998,26.669999999999998],\"type\":\"scatter\",\"xaxis\":\"x\",\"yaxis\":\"y\"},{\"line\":{\"shape\":\"spline\"},\"marker\":{\"color\":\"#00CC96\",\"symbol\":\"triangle-right\"},\"name\":\"DPR + Flan-T5\",\"showlegend\":true,\"x\":[1,2,3,4,5,10,15,20,25],\"y\":[13.33,15.0,19.580000000000002,18.33,17.5,17.5,17.5,17.5,17.5,17.5],\"type\":\"scatter\",\"xaxis\":\"x\",\"yaxis\":\"y\"},{\"line\":{\"shape\":\"spline\"},\"marker\":{\"color\":\"#AB63FA\",\"symbol\":\"star\"},\"name\":\"kNN-LM\",\"showlegend\":true,\"x\":[1,2,3,4,5,10,15,20,25],\"y\":[41.25,40.42,40.83,41.25,42.08,42.5,42.5,42.5,42.5,42.5],\"type\":\"scatter\",\"xaxis\":\"x\",\"yaxis\":\"y\"},{\"line\":{\"shape\":\"spline\"},\"marker\":{\"color\":\"#FFA15A\",\"symbol\":\"x\"},\"name\":\"Contriever + ATLAS\",\"showlegend\":true,\"x\":[1,2,3,4,5,10,15,20,25],\"y\":[31.669999999999998,52.080000000000005,54.24,57.49999999999999,57.49999999999999,57.49999999999999,58.330000000000005,58.330000000000005,58.330000000000005,58.330000000000005],\"type\":\"scatter\",\"xaxis\":\"x\",\"yaxis\":\"y\"},{\"line\":{\"shape\":\"spline\"},\"marker\":{\"color\":\"#636EFA\",\"symbol\":\"circle\"},\"name\":\"REALM\",\"showlegend\":false,\"x\":[1,2,3,4,5,10,15,20,25],\"y\":[17.87,30.04,34.22,39.92,44.49,49.81,49.43,54.75,55.13,55.13],\"type\":\"scatter\",\"xaxis\":\"x2\",\"yaxis\":\"y2\"},{\"line\":{\"shape\":\"spline\"},\"marker\":{\"color\":\"#EF553B\",\"symbol\":\"square\"},\"name\":\"DPR + FiD\",\"showlegend\":false,\"x\":[1,2,3,4,5,10,15,20,25],\"y\":[7.9799999999999995,9.89,13.309999999999999,15.21,17.11,20.53,22.81,25.1,23.95,23.95],\"type\":\"scatter\",\"xaxis\":\"x2\",\"yaxis\":\"y2\"},{\"line\":{\"shape\":\"spline\"},\"marker\":{\"color\":\"#00CC96\",\"symbol\":\"triangle-right\"},\"name\":\"DPR + Flan-T5\",\"showlegend\":false,\"x\":[1,2,3,4,5,10,15,20,25],\"y\":[7.6,7.6,5.319999999999999,7.22,8.37,4.9399999999999995,4.18,3.8,3.42,3.42],\"type\":\"scatter\",\"xaxis\":\"x2\",\"yaxis\":\"y2\"},{\"line\":{\"shape\":\"spline\"},\"marker\":{\"color\":\"#AB63FA\",\"symbol\":\"star\"},\"name\":\"kNN-LM\",\"showlegend\":false,\"x\":[1,2,3,4,5,10,15,20,25],\"y\":[40.300000000000004,40.300000000000004,41.44,41.06,40.68,41.44,40.68,39.54,39.54,39.54],\"type\":\"scatter\",\"xaxis\":\"x2\",\"yaxis\":\"y2\"},{\"line\":{\"shape\":\"spline\"},\"marker\":{\"color\":\"#FFA15A\",\"symbol\":\"x\"},\"name\":\"Contriever + ATLAS\",\"showlegend\":false,\"x\":[1,2,3,4,5,10,15,20,25],\"y\":[32.7,47.15,50.57000000000001,53.61,54.37,56.65,54.75,53.23,52.09,52.09],\"type\":\"scatter\",\"xaxis\":\"x2\",\"yaxis\":\"y2\"},{\"line\":{\"shape\":\"spline\"},\"marker\":{\"color\":\"#636EFA\",\"symbol\":\"circle\"},\"name\":\"REALM\",\"showlegend\":false,\"x\":[1,2,3,4,5,10,15,20,25],\"y\":[17.9,37.81,42.95,43.4,43.62,43.62,43.62,43.62,43.62,43.62],\"type\":\"scatter\",\"xaxis\":\"x3\",\"yaxis\":\"y3\"},{\"line\":{\"shape\":\"spline\"},\"marker\":{\"color\":\"#EF553B\",\"symbol\":\"square\"},\"name\":\"DPR + FiD\",\"showlegend\":false,\"x\":[1,2,3,4,5,10,15,20,25],\"y\":[14.77,21.7,23.04,24.610000000000003,24.610000000000003,24.610000000000003,24.610000000000003,24.610000000000003,24.610000000000003,24.610000000000003],\"type\":\"scatter\",\"xaxis\":\"x3\",\"yaxis\":\"y3\"},{\"line\":{\"shape\":\"spline\"},\"marker\":{\"color\":\"#00CC96\",\"symbol\":\"triangle-right\"},\"name\":\"DPR + Flan-T5\",\"showlegend\":false,\"x\":[1,2,3,4,5,10,15,20,25],\"y\":[11.19,24.38,32.89,34.0,34.0,34.0,34.0,34.0,34.0,34.0],\"type\":\"scatter\",\"xaxis\":\"x3\",\"yaxis\":\"y3\"},{\"line\":{\"shape\":\"spline\"},\"marker\":{\"color\":\"#AB63FA\",\"symbol\":\"star\"},\"name\":\"kNN-LM\",\"showlegend\":false,\"x\":[1,2,3,4,5,10,15,20,25],\"y\":[22.37,21.92,22.37,23.04,23.04,23.49,23.49,23.49,23.71,23.71],\"type\":\"scatter\",\"xaxis\":\"x3\",\"yaxis\":\"y3\"},{\"line\":{\"shape\":\"spline\"},\"marker\":{\"color\":\"#FFA15A\",\"symbol\":\"x\"},\"name\":\"Contriever + ATLAS\",\"showlegend\":false,\"x\":[1,2,3,4,5,10,15,20,25],\"y\":[18.57,33.56,36.91,36.69,36.69,36.69,36.69,36.69,36.69,36.69],\"type\":\"scatter\",\"xaxis\":\"x3\",\"yaxis\":\"y3\"}],                        {\"template\":{\"data\":{\"histogram2dcontour\":[{\"type\":\"histogram2dcontour\",\"colorbar\":{\"outlinewidth\":0,\"ticks\":\"\"},\"colorscale\":[[0.0,\"#0d0887\"],[0.1111111111111111,\"#46039f\"],[0.2222222222222222,\"#7201a8\"],[0.3333333333333333,\"#9c179e\"],[0.4444444444444444,\"#bd3786\"],[0.5555555555555556,\"#d8576b\"],[0.6666666666666666,\"#ed7953\"],[0.7777777777777778,\"#fb9f3a\"],[0.8888888888888888,\"#fdca26\"],[1.0,\"#f0f921\"]]}],\"choropleth\":[{\"type\":\"choropleth\",\"colorbar\":{\"outlinewidth\":0,\"ticks\":\"\"}}],\"histogram2d\":[{\"type\":\"histogram2d\",\"colorbar\":{\"outlinewidth\":0,\"ticks\":\"\"},\"colorscale\":[[0.0,\"#0d0887\"],[0.1111111111111111,\"#46039f\"],[0.2222222222222222,\"#7201a8\"],[0.3333333333333333,\"#9c179e\"],[0.4444444444444444,\"#bd3786\"],[0.5555555555555556,\"#d8576b\"],[0.6666666666666666,\"#ed7953\"],[0.7777777777777778,\"#fb9f3a\"],[0.8888888888888888,\"#fdca26\"],[1.0,\"#f0f921\"]]}],\"heatmap\":[{\"type\":\"heatmap\",\"colorbar\":{\"outlinewidth\":0,\"ticks\":\"\"},\"colorscale\":[[0.0,\"#0d0887\"],[0.1111111111111111,\"#46039f\"],[0.2222222222222222,\"#7201a8\"],[0.3333333333333333,\"#9c179e\"],[0.4444444444444444,\"#bd3786\"],[0.5555555555555556,\"#d8576b\"],[0.6666666666666666,\"#ed7953\"],[0.7777777777777778,\"#fb9f3a\"],[0.8888888888888888,\"#fdca26\"],[1.0,\"#f0f921\"]]}],\"heatmapgl\":[{\"type\":\"heatmapgl\",\"colorbar\":{\"outlinewidth\":0,\"ticks\":\"\"},\"colorscale\":[[0.0,\"#0d0887\"],[0.1111111111111111,\"#46039f\"],[0.2222222222222222,\"#7201a8\"],[0.3333333333333333,\"#9c179e\"],[0.4444444444444444,\"#bd3786\"],[0.5555555555555556,\"#d8576b\"],[0.6666666666666666,\"#ed7953\"],[0.7777777777777778,\"#fb9f3a\"],[0.8888888888888888,\"#fdca26\"],[1.0,\"#f0f921\"]]}],\"contourcarpet\":[{\"type\":\"contourcarpet\",\"colorbar\":{\"outlinewidth\":0,\"ticks\":\"\"}}],\"contour\":[{\"type\":\"contour\",\"colorbar\":{\"outlinewidth\":0,\"ticks\":\"\"},\"colorscale\":[[0.0,\"#0d0887\"],[0.1111111111111111,\"#46039f\"],[0.2222222222222222,\"#7201a8\"],[0.3333333333333333,\"#9c179e\"],[0.4444444444444444,\"#bd3786\"],[0.5555555555555556,\"#d8576b\"],[0.6666666666666666,\"#ed7953\"],[0.7777777777777778,\"#fb9f3a\"],[0.8888888888888888,\"#fdca26\"],[1.0,\"#f0f921\"]]}],\"surface\":[{\"type\":\"surface\",\"colorbar\":{\"outlinewidth\":0,\"ticks\":\"\"},\"colorscale\":[[0.0,\"#0d0887\"],[0.1111111111111111,\"#46039f\"],[0.2222222222222222,\"#7201a8\"],[0.3333333333333333,\"#9c179e\"],[0.4444444444444444,\"#bd3786\"],[0.5555555555555556,\"#d8576b\"],[0.6666666666666666,\"#ed7953\"],[0.7777777777777778,\"#fb9f3a\"],[0.8888888888888888,\"#fdca26\"],[1.0,\"#f0f921\"]]}],\"mesh3d\":[{\"type\":\"mesh3d\",\"colorbar\":{\"outlinewidth\":0,\"ticks\":\"\"}}],\"scatter\":[{\"fillpattern\":{\"fillmode\":\"overlay\",\"size\":10,\"solidity\":0.2},\"type\":\"scatter\"}],\"parcoords\":[{\"type\":\"parcoords\",\"line\":{\"colorbar\":{\"outlinewidth\":0,\"ticks\":\"\"}}}],\"scatterpolargl\":[{\"type\":\"scatterpolargl\",\"marker\":{\"colorbar\":{\"outlinewidth\":0,\"ticks\":\"\"}}}],\"bar\":[{\"error_x\":{\"color\":\"#2a3f5f\"},\"error_y\":{\"color\":\"#2a3f5f\"},\"marker\":{\"line\":{\"color\":\"#E5ECF6\",\"width\":0.5},\"pattern\":{\"fillmode\":\"overlay\",\"size\":10,\"solidity\":0.2}},\"type\":\"bar\"}],\"scattergeo\":[{\"type\":\"scattergeo\",\"marker\":{\"colorbar\":{\"outlinewidth\":0,\"ticks\":\"\"}}}],\"scatterpolar\":[{\"type\":\"scatterpolar\",\"marker\":{\"colorbar\":{\"outlinewidth\":0,\"ticks\":\"\"}}}],\"histogram\":[{\"marker\":{\"pattern\":{\"fillmode\":\"overlay\",\"size\":10,\"solidity\":0.2}},\"type\":\"histogram\"}],\"scattergl\":[{\"type\":\"scattergl\",\"marker\":{\"colorbar\":{\"outlinewidth\":0,\"ticks\":\"\"}}}],\"scatter3d\":[{\"type\":\"scatter3d\",\"line\":{\"colorbar\":{\"outlinewidth\":0,\"ticks\":\"\"}},\"marker\":{\"colorbar\":{\"outlinewidth\":0,\"ticks\":\"\"}}}],\"scattermapbox\":[{\"type\":\"scattermapbox\",\"marker\":{\"colorbar\":{\"outlinewidth\":0,\"ticks\":\"\"}}}],\"scatterternary\":[{\"type\":\"scatterternary\",\"marker\":{\"colorbar\":{\"outlinewidth\":0,\"ticks\":\"\"}}}],\"scattercarpet\":[{\"type\":\"scattercarpet\",\"marker\":{\"colorbar\":{\"outlinewidth\":0,\"ticks\":\"\"}}}],\"carpet\":[{\"aaxis\":{\"endlinecolor\":\"#2a3f5f\",\"gridcolor\":\"white\",\"linecolor\":\"white\",\"minorgridcolor\":\"white\",\"startlinecolor\":\"#2a3f5f\"},\"baxis\":{\"endlinecolor\":\"#2a3f5f\",\"gridcolor\":\"white\",\"linecolor\":\"white\",\"minorgridcolor\":\"white\",\"startlinecolor\":\"#2a3f5f\"},\"type\":\"carpet\"}],\"table\":[{\"cells\":{\"fill\":{\"color\":\"#EBF0F8\"},\"line\":{\"color\":\"white\"}},\"header\":{\"fill\":{\"color\":\"#C8D4E3\"},\"line\":{\"color\":\"white\"}},\"type\":\"table\"}],\"barpolar\":[{\"marker\":{\"line\":{\"color\":\"#E5ECF6\",\"width\":0.5},\"pattern\":{\"fillmode\":\"overlay\",\"size\":10,\"solidity\":0.2}},\"type\":\"barpolar\"}],\"pie\":[{\"automargin\":true,\"type\":\"pie\"}]},\"layout\":{\"autotypenumbers\":\"strict\",\"colorway\":[\"#636efa\",\"#EF553B\",\"#00cc96\",\"#ab63fa\",\"#FFA15A\",\"#19d3f3\",\"#FF6692\",\"#B6E880\",\"#FF97FF\",\"#FECB52\"],\"font\":{\"color\":\"#2a3f5f\"},\"hovermode\":\"closest\",\"hoverlabel\":{\"align\":\"left\"},\"paper_bgcolor\":\"white\",\"plot_bgcolor\":\"#E5ECF6\",\"polar\":{\"bgcolor\":\"#E5ECF6\",\"angularaxis\":{\"gridcolor\":\"white\",\"linecolor\":\"white\",\"ticks\":\"\"},\"radialaxis\":{\"gridcolor\":\"white\",\"linecolor\":\"white\",\"ticks\":\"\"}},\"ternary\":{\"bgcolor\":\"#E5ECF6\",\"aaxis\":{\"gridcolor\":\"white\",\"linecolor\":\"white\",\"ticks\":\"\"},\"baxis\":{\"gridcolor\":\"white\",\"linecolor\":\"white\",\"ticks\":\"\"},\"caxis\":{\"gridcolor\":\"white\",\"linecolor\":\"white\",\"ticks\":\"\"}},\"coloraxis\":{\"colorbar\":{\"outlinewidth\":0,\"ticks\":\"\"}},\"colorscale\":{\"sequential\":[[0.0,\"#0d0887\"],[0.1111111111111111,\"#46039f\"],[0.2222222222222222,\"#7201a8\"],[0.3333333333333333,\"#9c179e\"],[0.4444444444444444,\"#bd3786\"],[0.5555555555555556,\"#d8576b\"],[0.6666666666666666,\"#ed7953\"],[0.7777777777777778,\"#fb9f3a\"],[0.8888888888888888,\"#fdca26\"],[1.0,\"#f0f921\"]],\"sequentialminus\":[[0.0,\"#0d0887\"],[0.1111111111111111,\"#46039f\"],[0.2222222222222222,\"#7201a8\"],[0.3333333333333333,\"#9c179e\"],[0.4444444444444444,\"#bd3786\"],[0.5555555555555556,\"#d8576b\"],[0.6666666666666666,\"#ed7953\"],[0.7777777777777778,\"#fb9f3a\"],[0.8888888888888888,\"#fdca26\"],[1.0,\"#f0f921\"]],\"diverging\":[[0,\"#8e0152\"],[0.1,\"#c51b7d\"],[0.2,\"#de77ae\"],[0.3,\"#f1b6da\"],[0.4,\"#fde0ef\"],[0.5,\"#f7f7f7\"],[0.6,\"#e6f5d0\"],[0.7,\"#b8e186\"],[0.8,\"#7fbc41\"],[0.9,\"#4d9221\"],[1,\"#276419\"]]},\"xaxis\":{\"gridcolor\":\"white\",\"linecolor\":\"white\",\"ticks\":\"\",\"title\":{\"standoff\":15},\"zerolinecolor\":\"white\",\"automargin\":true,\"zerolinewidth\":2},\"yaxis\":{\"gridcolor\":\"white\",\"linecolor\":\"white\",\"ticks\":\"\",\"title\":{\"standoff\":15},\"zerolinecolor\":\"white\",\"automargin\":true,\"zerolinewidth\":2},\"scene\":{\"xaxis\":{\"backgroundcolor\":\"#E5ECF6\",\"gridcolor\":\"white\",\"linecolor\":\"white\",\"showbackground\":true,\"ticks\":\"\",\"zerolinecolor\":\"white\",\"gridwidth\":2},\"yaxis\":{\"backgroundcolor\":\"#E5ECF6\",\"gridcolor\":\"white\",\"linecolor\":\"white\",\"showbackground\":true,\"ticks\":\"\",\"zerolinecolor\":\"white\",\"gridwidth\":2},\"zaxis\":{\"backgroundcolor\":\"#E5ECF6\",\"gridcolor\":\"white\",\"linecolor\":\"white\",\"showbackground\":true,\"ticks\":\"\",\"zerolinecolor\":\"white\",\"gridwidth\":2}},\"shapedefaults\":{\"line\":{\"color\":\"#2a3f5f\"}},\"annotationdefaults\":{\"arrowcolor\":\"#2a3f5f\",\"arrowhead\":0,\"arrowwidth\":1},\"geo\":{\"bgcolor\":\"white\",\"landcolor\":\"#E5ECF6\",\"subunitcolor\":\"white\",\"showland\":true,\"showlakes\":true,\"lakecolor\":\"white\"},\"title\":{\"x\":0.05},\"mapbox\":{\"style\":\"light\"}}},\"xaxis\":{\"anchor\":\"y\",\"domain\":[0.0,0.3066666666666667],\"type\":\"log\",\"tickvals\":[1,2,3,4,5,10,15,20,25]},\"yaxis\":{\"anchor\":\"x\",\"domain\":[0.0,1.0],\"range\":[0,70]},\"xaxis2\":{\"anchor\":\"y2\",\"domain\":[0.3466666666666667,0.6533333333333333],\"type\":\"log\",\"tickvals\":[1,2,3,4,5,10,15,20,25]},\"yaxis2\":{\"anchor\":\"x2\",\"domain\":[0.0,1.0],\"range\":[0,70]},\"xaxis3\":{\"anchor\":\"y3\",\"domain\":[0.6933333333333334,1.0],\"type\":\"log\",\"tickvals\":[1,2,3,4,5,10,15,20,25]},\"yaxis3\":{\"anchor\":\"x3\",\"domain\":[0.0,1.0],\"range\":[0,70]},\"annotations\":[{\"font\":{\"size\":12},\"showarrow\":false,\"text\":\"EntailmentBank-Easy\",\"x\":0.15333333333333335,\"xanchor\":\"center\",\"xref\":\"paper\",\"y\":1.0,\"yanchor\":\"bottom\",\"yref\":\"paper\"},{\"font\":{\"size\":12},\"showarrow\":false,\"text\":\"EntailmentBank-Hard\",\"x\":0.5,\"xanchor\":\"center\",\"xref\":\"paper\",\"y\":1.0,\"yanchor\":\"bottom\",\"yref\":\"paper\"},{\"font\":{\"size\":12},\"showarrow\":false,\"text\":\"StrategyQA\",\"x\":0.8466666666666667,\"xanchor\":\"center\",\"xref\":\"paper\",\"y\":1.0,\"yanchor\":\"bottom\",\"yref\":\"paper\"},{\"font\":{\"size\":12},\"showarrow\":false,\"text\":\"# of retrieved statements\",\"x\":0.5,\"xanchor\":\"center\",\"xref\":\"paper\",\"y\":0,\"yanchor\":\"top\",\"yref\":\"paper\",\"yshift\":-30},{\"font\":{\"size\":12},\"showarrow\":false,\"text\":\"Next token prediction accuracy\",\"textangle\":-90,\"x\":-0.05,\"xref\":\"paper\",\"y\":0.5,\"yref\":\"paper\"}],\"legend\":{\"font\":{\"size\":11},\"orientation\":\"h\",\"yanchor\":\"top\",\"y\":1.3,\"xanchor\":\"left\",\"x\":0.13},\"font\":{\"size\":12},\"autosize\":false,\"width\":800,\"height\":250,\"margin\":{\"l\":40,\"r\":0,\"b\":50,\"t\":20}},                        {\"responsive\": true}                    ).then(function(){\n",
              "                            \n",
              "var gd = document.getElementById('efce8b71-4416-49bc-8b6c-8a77b4710733');\n",
              "var x = new MutationObserver(function (mutations, observer) {{\n",
              "        var display = window.getComputedStyle(gd).display;\n",
              "        if (!display || display === 'none') {{\n",
              "            console.log([gd, 'removed!']);\n",
              "            Plotly.purge(gd);\n",
              "            observer.disconnect();\n",
              "        }}\n",
              "}});\n",
              "\n",
              "// Listen for the removal of the full notebook cells\n",
              "var notebookContainer = gd.closest('#notebook-container');\n",
              "if (notebookContainer) {{\n",
              "    x.observe(notebookContainer, {childList: true});\n",
              "}}\n",
              "\n",
              "// Listen for the clearing of the current output cell\n",
              "var outputEl = gd.closest('.output');\n",
              "if (outputEl) {{\n",
              "    x.observe(outputEl, {childList: true});\n",
              "}}\n",
              "\n",
              "                        })                };                            </script>        </div>\n",
              "</body>\n",
              "</html>"
            ]
          },
          "metadata": {}
        }
      ]
    },
    {
      "cell_type": "markdown",
      "metadata": {
        "id": "59fb6356"
      },
      "source": [
        "### LM Retriever and LM Contribution"
      ],
      "id": "59fb6356"
    },
    {
      "cell_type": "markdown",
      "metadata": {
        "id": "1c8e8e23"
      },
      "source": [
        "## QA Results"
      ],
      "id": "1c8e8e23"
    },
    {
      "cell_type": "markdown",
      "metadata": {
        "id": "oiOZJ_d2vfGj"
      },
      "source": [
        "Here are the results for QA on the test data."
      ],
      "id": "oiOZJ_d2vfGj"
    },
    {
      "cell_type": "code",
      "execution_count": 19,
      "metadata": {
        "id": "mM76NjgNvgLE"
      },
      "outputs": [],
      "source": [
        "qa = {1: {}, 2: {}, 3: {}, 4: {}}\n",
        "qa[1]['REALM'] = {\n",
        "    'f1': [0.1860, 0.1943, 0.1943, 0.1943, 0.1943, 0.1943, 0.1943, 0.1943, 0.1943, 0.1943],\n",
        "}\n",
        "qa[1]['DPR + FiD'] = {\n",
        "    'f1': [0.2312, 0.2670, 0.2930, 0.3089, 0.3153, 0.3214, 0.3214, 0.3214, 0.3214, 0.3214]\n",
        "}\n",
        "qa[1]['DPR + Flan-T5'] = {\n",
        "    'f1': [0.2118, 0.3464, 0.4099, 0.4201, 0.4267, 0.4438, 0.4434, 0.4434, 0.4434, 0.4434]\n",
        "}\n",
        "qa[1]['kNN-LM'] = {\n",
        "    'f1': [0.1720, 0.1635, 0.1639, 0.1617, 0.1625, 0.1582, 0.1582, 0.1582, 0.1582, 0.1591]\n",
        "}\n",
        "qa[1]['Contriever + ATLAS'] = {\n",
        "    'f1': [0.2227, 0.3120, 0.3485, 0.3595, 0.3679, 0.3626, 0.3626, 0.3626, 0.3626, 0.3626]\n",
        "}"
      ],
      "id": "mM76NjgNvgLE"
    },
    {
      "cell_type": "code",
      "execution_count": 20,
      "metadata": {
        "id": "Yb3PnWshvubz"
      },
      "outputs": [],
      "source": [
        "qa[2]['REALM'] = {\n",
        "    'f1': [0.1189, 0.1233, 0.1314, 0.1314, 0.1314, 0.1314, 0.1314, 0.1314, 0.1314, 0.1314],\n",
        "}\n",
        "qa[2]['DPR + FiD'] = {\n",
        "    'f1': [0.0552, 0.0644, 0.0804, 0.0974, 0.1135, 0.1562, 0.2124, 0.2475, 0.2732, 0.2732]\n",
        "}\n",
        "qa[2]['DPR + Flan-T5'] = {\n",
        "    'f1': [0.0947, 0.1480, 0.1604, 0.1644, 0.1939, 0.2445, 0.2873, 0.3200, 0.3619, 0.3619]\n",
        "}\n",
        "qa[2]['kNN-LM'] = {\n",
        "    'f1': [0.1291, 0.1303, 0.1264, 0.1251, 0.1210, 0.1147, 0.1117, 0.1111, 0.1077, 0.1061]\n",
        "}\n",
        "qa[2]['Contriever + ATLAS'] = {\n",
        "    'f1': [0.1874, 0.2373, 0.2767, 0.2839, 0.2906, 0.3317, 0.3348, 0.3314, 0.3374, 0.3374]\n",
        "}"
      ],
      "id": "Yb3PnWshvubz"
    },
    {
      "cell_type": "code",
      "execution_count": 21,
      "metadata": {
        "id": "ppIq1ZL9vw5n"
      },
      "outputs": [],
      "source": [
        "qa[3]['REALM'] = {\n",
        "    'f1': [0.1381, 0.1573, 0.1610, 0.1610, 0.1610, 0.1639, 0.1639, 0.1639, 0.1639, 0.1639]\n",
        "}\n",
        "qa[3]['DPR + FiD'] = {\n",
        "    'f1': [0.0877, 0.1227, 0.1614, 0.1769, 0.1962, 0.2523, 0.2803, 0.3002, 0.3227, 0.3227]\n",
        "}\n",
        "qa[3]['DPR + Flan-T5'] = {\n",
        "    'f1': [0.1377, 0.1820, 0.2492, 0.2684, 0.2752, 0.3553, 0.3713, 0.3767, 0.3977, 0.3977]\n",
        "}\n",
        "qa[3]['kNN-LM'] = {\n",
        "    'f1': [0.1534, 0.1533, 0.1494, 0.1449, 0.1480, 0.1454, 0.1433, 0.1454, 0.1419, 0.1400]\n",
        "}\n",
        "qa[3]['Contriever + ATLAS'] = { \n",
        "    'f1': [0.2037, 0.2631, 0.2820, 0.3155, 0.3386, 0.3627, 0.3731, 0.3763, 0.3797, 0.3797]\n",
        "}"
      ],
      "id": "ppIq1ZL9vw5n"
    },
    {
      "cell_type": "code",
      "source": [
        "qa[4]['REALM'] = {\n",
        "    'f1': []\n",
        "}\n",
        "qa[4]['DPR + FiD'] = {\n",
        "    'f1': [0.4720, 0.4609, 0.4609, 0.4631, 0.4631, 0.4631, 0.4631, 0.4631, 0.4631, 0.4631]\n",
        "}\n",
        "qa[4]['DPR + Flan-T5'] = { # len 500\n",
        "    'f1': [0.5951, 0.6286, 0.6622, 0.6689, 0.6689, 0.6689, 0.6689, 0.6689, 0.6689, 0.6689]\n",
        "}\n",
        "qa[4]['kNN-LM'] = {\n",
        "    'f1': [0.2349, 0.2349, 0.2349, 0.2349, 0.2349, 0.2349, 0.2349, 0.2349, 0.2349, 0.2349]\n",
        "}\n",
        "qa[4]['Contriever + ATLAS'] = {\n",
        "    'f1': [0.5414, 0.5391, 0.5369, 0.5369, 0.5369, 0.5369, 0.5369, 0.5369, 0.5369, 0.5369]\n",
        "}"
      ],
      "metadata": {
        "id": "0K_ueeRycmRw"
      },
      "id": "0K_ueeRycmRw",
      "execution_count": 22,
      "outputs": []
    },
    {
      "cell_type": "code",
      "source": [
        "x = np.array([1, 2, 3, 4, 5, 10, 15, 20, 25])\n",
        "\n",
        "fig = make_subplots(rows=1, cols=3, subplot_titles=(\"EntailmentBank-Easy\", \"EntailmentBank-Hard\", \"StrategyQA\"), horizontal_spacing = 0.04,\n",
        "                    x_title='# of retrieved statements',)\n",
        "for eb in [1, 2, 4]:\n",
        "    if eb > 3:\n",
        "      col = 3\n",
        "    else:\n",
        "      col = eb\n",
        "    for i, (model, ys) in enumerate(qa[eb].items()):\n",
        "        if eb == 1:\n",
        "            fig.add_trace(go.Scatter(x=x, y=[y*100 for y in ys['f1']], name=model, line_shape='spline', marker_symbol=symbols[i], marker_color=colors[i], showlegend=True), row=1, col=col)\n",
        "        else:\n",
        "            fig.add_trace(go.Scatter(x=x, y=[y*100 for y in ys['f1']], name=model, line_shape='spline', marker_symbol=symbols[i], marker_color=colors[i], showlegend=False), row=1, col=col)\n",
        "\n",
        "\n",
        "fig.update_xaxes(type=\"log\", tickvals=x)\n",
        "fig.update_yaxes(range=[0, 70])\n",
        "fig.update_layout(legend=dict(\n",
        "    orientation=\"h\",\n",
        "    yanchor=\"top\",\n",
        "    y=1.3,\n",
        "    xanchor=\"left\",\n",
        "    x=0.13,\n",
        "    font_size=11\n",
        "))\n",
        "fig.update_layout(font_size=12)\n",
        "fig.update_annotations(font=dict(size=12))\n",
        "fig.update_layout(autosize=False, width=800, height=250)\n",
        "fig.update_layout(\n",
        "                  yaxis1_title='Token overlap F1 score',\n",
        "                  yaxis2_title='Token overlap F1 score',\n",
        "                  yaxis3_title='Accuracy', font_size=9)\n",
        "fig.update_yaxes(\n",
        "        title_standoff = 0\n",
        ")\n",
        "fig.update_layout(margin=dict(l=40,r=0,b=50,t=20))\n",
        "fig.show()\n"
      ],
      "metadata": {
        "colab": {
          "base_uri": "https://localhost:8080/",
          "height": 267
        },
        "id": "swSUFiVeSMjS",
        "outputId": "78b9db5e-8a1c-4246-8b97-9dbc07c35de5"
      },
      "id": "swSUFiVeSMjS",
      "execution_count": 24,
      "outputs": [
        {
          "output_type": "display_data",
          "data": {
            "text/html": [
              "<html>\n",
              "<head><meta charset=\"utf-8\" /></head>\n",
              "<body>\n",
              "    <div>            <script src=\"https://cdnjs.cloudflare.com/ajax/libs/mathjax/2.7.5/MathJax.js?config=TeX-AMS-MML_SVG\"></script><script type=\"text/javascript\">if (window.MathJax && window.MathJax.Hub && window.MathJax.Hub.Config) {window.MathJax.Hub.Config({SVG: {font: \"STIX-Web\"}});}</script>                <script type=\"text/javascript\">window.PlotlyConfig = {MathJaxConfig: 'local'};</script>\n",
              "        <script src=\"https://cdn.plot.ly/plotly-2.18.2.min.js\"></script>                <div id=\"df038a4c-5655-4162-a6c0-95cc89e5371f\" class=\"plotly-graph-div\" style=\"height:250px; width:800px;\"></div>            <script type=\"text/javascript\">                                    window.PLOTLYENV=window.PLOTLYENV || {};                                    if (document.getElementById(\"df038a4c-5655-4162-a6c0-95cc89e5371f\")) {                    Plotly.newPlot(                        \"df038a4c-5655-4162-a6c0-95cc89e5371f\",                        [{\"line\":{\"shape\":\"spline\"},\"marker\":{\"color\":\"#636EFA\",\"symbol\":\"circle\"},\"name\":\"REALM\",\"showlegend\":true,\"x\":[1,2,3,4,5,10,15,20,25],\"y\":[18.6,19.43,19.43,19.43,19.43,19.43,19.43,19.43,19.43,19.43],\"type\":\"scatter\",\"xaxis\":\"x\",\"yaxis\":\"y\"},{\"line\":{\"shape\":\"spline\"},\"marker\":{\"color\":\"#EF553B\",\"symbol\":\"square\"},\"name\":\"DPR + FiD\",\"showlegend\":true,\"x\":[1,2,3,4,5,10,15,20,25],\"y\":[23.119999999999997,26.700000000000003,29.299999999999997,30.89,31.53,32.14,32.14,32.14,32.14,32.14],\"type\":\"scatter\",\"xaxis\":\"x\",\"yaxis\":\"y\"},{\"line\":{\"shape\":\"spline\"},\"marker\":{\"color\":\"#00CC96\",\"symbol\":\"triangle-right\"},\"name\":\"DPR + Flan-T5\",\"showlegend\":true,\"x\":[1,2,3,4,5,10,15,20,25],\"y\":[21.18,34.64,40.99,42.01,42.67,44.379999999999995,44.34,44.34,44.34,44.34],\"type\":\"scatter\",\"xaxis\":\"x\",\"yaxis\":\"y\"},{\"line\":{\"shape\":\"spline\"},\"marker\":{\"color\":\"#AB63FA\",\"symbol\":\"star\"},\"name\":\"kNN-LM\",\"showlegend\":true,\"x\":[1,2,3,4,5,10,15,20,25],\"y\":[17.2,16.35,16.39,16.17,16.25,15.82,15.82,15.82,15.82,15.909999999999998],\"type\":\"scatter\",\"xaxis\":\"x\",\"yaxis\":\"y\"},{\"line\":{\"shape\":\"spline\"},\"marker\":{\"color\":\"#FFA15A\",\"symbol\":\"x\"},\"name\":\"Contriever + ATLAS\",\"showlegend\":true,\"x\":[1,2,3,4,5,10,15,20,25],\"y\":[22.27,31.2,34.849999999999994,35.949999999999996,36.79,36.26,36.26,36.26,36.26,36.26],\"type\":\"scatter\",\"xaxis\":\"x\",\"yaxis\":\"y\"},{\"line\":{\"shape\":\"spline\"},\"marker\":{\"color\":\"#636EFA\",\"symbol\":\"circle\"},\"name\":\"REALM\",\"showlegend\":false,\"x\":[1,2,3,4,5,10,15,20,25],\"y\":[11.89,12.33,13.139999999999999,13.139999999999999,13.139999999999999,13.139999999999999,13.139999999999999,13.139999999999999,13.139999999999999,13.139999999999999],\"type\":\"scatter\",\"xaxis\":\"x2\",\"yaxis\":\"y2\"},{\"line\":{\"shape\":\"spline\"},\"marker\":{\"color\":\"#EF553B\",\"symbol\":\"square\"},\"name\":\"DPR + FiD\",\"showlegend\":false,\"x\":[1,2,3,4,5,10,15,20,25],\"y\":[5.52,6.4399999999999995,8.04,9.74,11.35,15.620000000000001,21.240000000000002,24.75,27.32,27.32],\"type\":\"scatter\",\"xaxis\":\"x2\",\"yaxis\":\"y2\"},{\"line\":{\"shape\":\"spline\"},\"marker\":{\"color\":\"#00CC96\",\"symbol\":\"triangle-right\"},\"name\":\"DPR + Flan-T5\",\"showlegend\":false,\"x\":[1,2,3,4,5,10,15,20,25],\"y\":[9.47,14.799999999999999,16.04,16.439999999999998,19.39,24.45,28.73,32.0,36.19,36.19],\"type\":\"scatter\",\"xaxis\":\"x2\",\"yaxis\":\"y2\"},{\"line\":{\"shape\":\"spline\"},\"marker\":{\"color\":\"#AB63FA\",\"symbol\":\"star\"},\"name\":\"kNN-LM\",\"showlegend\":false,\"x\":[1,2,3,4,5,10,15,20,25],\"y\":[12.91,13.03,12.64,12.509999999999998,12.1,11.469999999999999,11.17,11.110000000000001,10.77,10.61],\"type\":\"scatter\",\"xaxis\":\"x2\",\"yaxis\":\"y2\"},{\"line\":{\"shape\":\"spline\"},\"marker\":{\"color\":\"#FFA15A\",\"symbol\":\"x\"},\"name\":\"Contriever + ATLAS\",\"showlegend\":false,\"x\":[1,2,3,4,5,10,15,20,25],\"y\":[18.740000000000002,23.73,27.67,28.389999999999997,29.060000000000002,33.17,33.48,33.14,33.739999999999995,33.739999999999995],\"type\":\"scatter\",\"xaxis\":\"x2\",\"yaxis\":\"y2\"},{\"line\":{\"shape\":\"spline\"},\"marker\":{\"color\":\"#636EFA\",\"symbol\":\"circle\"},\"name\":\"REALM\",\"showlegend\":false,\"x\":[1,2,3,4,5,10,15,20,25],\"y\":[],\"type\":\"scatter\",\"xaxis\":\"x3\",\"yaxis\":\"y3\"},{\"line\":{\"shape\":\"spline\"},\"marker\":{\"color\":\"#EF553B\",\"symbol\":\"square\"},\"name\":\"DPR + FiD\",\"showlegend\":false,\"x\":[1,2,3,4,5,10,15,20,25],\"y\":[47.199999999999996,46.089999999999996,46.089999999999996,46.31,46.31,46.31,46.31,46.31,46.31,46.31],\"type\":\"scatter\",\"xaxis\":\"x3\",\"yaxis\":\"y3\"},{\"line\":{\"shape\":\"spline\"},\"marker\":{\"color\":\"#00CC96\",\"symbol\":\"triangle-right\"},\"name\":\"DPR + Flan-T5\",\"showlegend\":false,\"x\":[1,2,3,4,5,10,15,20,25],\"y\":[59.51,62.86000000000001,66.22,66.89,66.89,66.89,66.89,66.89,66.89,66.89],\"type\":\"scatter\",\"xaxis\":\"x3\",\"yaxis\":\"y3\"},{\"line\":{\"shape\":\"spline\"},\"marker\":{\"color\":\"#AB63FA\",\"symbol\":\"star\"},\"name\":\"kNN-LM\",\"showlegend\":false,\"x\":[1,2,3,4,5,10,15,20,25],\"y\":[23.49,23.49,23.49,23.49,23.49,23.49,23.49,23.49,23.49,23.49],\"type\":\"scatter\",\"xaxis\":\"x3\",\"yaxis\":\"y3\"},{\"line\":{\"shape\":\"spline\"},\"marker\":{\"color\":\"#FFA15A\",\"symbol\":\"x\"},\"name\":\"Contriever + ATLAS\",\"showlegend\":false,\"x\":[1,2,3,4,5,10,15,20,25],\"y\":[54.14,53.910000000000004,53.690000000000005,53.690000000000005,53.690000000000005,53.690000000000005,53.690000000000005,53.690000000000005,53.690000000000005,53.690000000000005],\"type\":\"scatter\",\"xaxis\":\"x3\",\"yaxis\":\"y3\"}],                        {\"template\":{\"data\":{\"histogram2dcontour\":[{\"type\":\"histogram2dcontour\",\"colorbar\":{\"outlinewidth\":0,\"ticks\":\"\"},\"colorscale\":[[0.0,\"#0d0887\"],[0.1111111111111111,\"#46039f\"],[0.2222222222222222,\"#7201a8\"],[0.3333333333333333,\"#9c179e\"],[0.4444444444444444,\"#bd3786\"],[0.5555555555555556,\"#d8576b\"],[0.6666666666666666,\"#ed7953\"],[0.7777777777777778,\"#fb9f3a\"],[0.8888888888888888,\"#fdca26\"],[1.0,\"#f0f921\"]]}],\"choropleth\":[{\"type\":\"choropleth\",\"colorbar\":{\"outlinewidth\":0,\"ticks\":\"\"}}],\"histogram2d\":[{\"type\":\"histogram2d\",\"colorbar\":{\"outlinewidth\":0,\"ticks\":\"\"},\"colorscale\":[[0.0,\"#0d0887\"],[0.1111111111111111,\"#46039f\"],[0.2222222222222222,\"#7201a8\"],[0.3333333333333333,\"#9c179e\"],[0.4444444444444444,\"#bd3786\"],[0.5555555555555556,\"#d8576b\"],[0.6666666666666666,\"#ed7953\"],[0.7777777777777778,\"#fb9f3a\"],[0.8888888888888888,\"#fdca26\"],[1.0,\"#f0f921\"]]}],\"heatmap\":[{\"type\":\"heatmap\",\"colorbar\":{\"outlinewidth\":0,\"ticks\":\"\"},\"colorscale\":[[0.0,\"#0d0887\"],[0.1111111111111111,\"#46039f\"],[0.2222222222222222,\"#7201a8\"],[0.3333333333333333,\"#9c179e\"],[0.4444444444444444,\"#bd3786\"],[0.5555555555555556,\"#d8576b\"],[0.6666666666666666,\"#ed7953\"],[0.7777777777777778,\"#fb9f3a\"],[0.8888888888888888,\"#fdca26\"],[1.0,\"#f0f921\"]]}],\"heatmapgl\":[{\"type\":\"heatmapgl\",\"colorbar\":{\"outlinewidth\":0,\"ticks\":\"\"},\"colorscale\":[[0.0,\"#0d0887\"],[0.1111111111111111,\"#46039f\"],[0.2222222222222222,\"#7201a8\"],[0.3333333333333333,\"#9c179e\"],[0.4444444444444444,\"#bd3786\"],[0.5555555555555556,\"#d8576b\"],[0.6666666666666666,\"#ed7953\"],[0.7777777777777778,\"#fb9f3a\"],[0.8888888888888888,\"#fdca26\"],[1.0,\"#f0f921\"]]}],\"contourcarpet\":[{\"type\":\"contourcarpet\",\"colorbar\":{\"outlinewidth\":0,\"ticks\":\"\"}}],\"contour\":[{\"type\":\"contour\",\"colorbar\":{\"outlinewidth\":0,\"ticks\":\"\"},\"colorscale\":[[0.0,\"#0d0887\"],[0.1111111111111111,\"#46039f\"],[0.2222222222222222,\"#7201a8\"],[0.3333333333333333,\"#9c179e\"],[0.4444444444444444,\"#bd3786\"],[0.5555555555555556,\"#d8576b\"],[0.6666666666666666,\"#ed7953\"],[0.7777777777777778,\"#fb9f3a\"],[0.8888888888888888,\"#fdca26\"],[1.0,\"#f0f921\"]]}],\"surface\":[{\"type\":\"surface\",\"colorbar\":{\"outlinewidth\":0,\"ticks\":\"\"},\"colorscale\":[[0.0,\"#0d0887\"],[0.1111111111111111,\"#46039f\"],[0.2222222222222222,\"#7201a8\"],[0.3333333333333333,\"#9c179e\"],[0.4444444444444444,\"#bd3786\"],[0.5555555555555556,\"#d8576b\"],[0.6666666666666666,\"#ed7953\"],[0.7777777777777778,\"#fb9f3a\"],[0.8888888888888888,\"#fdca26\"],[1.0,\"#f0f921\"]]}],\"mesh3d\":[{\"type\":\"mesh3d\",\"colorbar\":{\"outlinewidth\":0,\"ticks\":\"\"}}],\"scatter\":[{\"fillpattern\":{\"fillmode\":\"overlay\",\"size\":10,\"solidity\":0.2},\"type\":\"scatter\"}],\"parcoords\":[{\"type\":\"parcoords\",\"line\":{\"colorbar\":{\"outlinewidth\":0,\"ticks\":\"\"}}}],\"scatterpolargl\":[{\"type\":\"scatterpolargl\",\"marker\":{\"colorbar\":{\"outlinewidth\":0,\"ticks\":\"\"}}}],\"bar\":[{\"error_x\":{\"color\":\"#2a3f5f\"},\"error_y\":{\"color\":\"#2a3f5f\"},\"marker\":{\"line\":{\"color\":\"#E5ECF6\",\"width\":0.5},\"pattern\":{\"fillmode\":\"overlay\",\"size\":10,\"solidity\":0.2}},\"type\":\"bar\"}],\"scattergeo\":[{\"type\":\"scattergeo\",\"marker\":{\"colorbar\":{\"outlinewidth\":0,\"ticks\":\"\"}}}],\"scatterpolar\":[{\"type\":\"scatterpolar\",\"marker\":{\"colorbar\":{\"outlinewidth\":0,\"ticks\":\"\"}}}],\"histogram\":[{\"marker\":{\"pattern\":{\"fillmode\":\"overlay\",\"size\":10,\"solidity\":0.2}},\"type\":\"histogram\"}],\"scattergl\":[{\"type\":\"scattergl\",\"marker\":{\"colorbar\":{\"outlinewidth\":0,\"ticks\":\"\"}}}],\"scatter3d\":[{\"type\":\"scatter3d\",\"line\":{\"colorbar\":{\"outlinewidth\":0,\"ticks\":\"\"}},\"marker\":{\"colorbar\":{\"outlinewidth\":0,\"ticks\":\"\"}}}],\"scattermapbox\":[{\"type\":\"scattermapbox\",\"marker\":{\"colorbar\":{\"outlinewidth\":0,\"ticks\":\"\"}}}],\"scatterternary\":[{\"type\":\"scatterternary\",\"marker\":{\"colorbar\":{\"outlinewidth\":0,\"ticks\":\"\"}}}],\"scattercarpet\":[{\"type\":\"scattercarpet\",\"marker\":{\"colorbar\":{\"outlinewidth\":0,\"ticks\":\"\"}}}],\"carpet\":[{\"aaxis\":{\"endlinecolor\":\"#2a3f5f\",\"gridcolor\":\"white\",\"linecolor\":\"white\",\"minorgridcolor\":\"white\",\"startlinecolor\":\"#2a3f5f\"},\"baxis\":{\"endlinecolor\":\"#2a3f5f\",\"gridcolor\":\"white\",\"linecolor\":\"white\",\"minorgridcolor\":\"white\",\"startlinecolor\":\"#2a3f5f\"},\"type\":\"carpet\"}],\"table\":[{\"cells\":{\"fill\":{\"color\":\"#EBF0F8\"},\"line\":{\"color\":\"white\"}},\"header\":{\"fill\":{\"color\":\"#C8D4E3\"},\"line\":{\"color\":\"white\"}},\"type\":\"table\"}],\"barpolar\":[{\"marker\":{\"line\":{\"color\":\"#E5ECF6\",\"width\":0.5},\"pattern\":{\"fillmode\":\"overlay\",\"size\":10,\"solidity\":0.2}},\"type\":\"barpolar\"}],\"pie\":[{\"automargin\":true,\"type\":\"pie\"}]},\"layout\":{\"autotypenumbers\":\"strict\",\"colorway\":[\"#636efa\",\"#EF553B\",\"#00cc96\",\"#ab63fa\",\"#FFA15A\",\"#19d3f3\",\"#FF6692\",\"#B6E880\",\"#FF97FF\",\"#FECB52\"],\"font\":{\"color\":\"#2a3f5f\"},\"hovermode\":\"closest\",\"hoverlabel\":{\"align\":\"left\"},\"paper_bgcolor\":\"white\",\"plot_bgcolor\":\"#E5ECF6\",\"polar\":{\"bgcolor\":\"#E5ECF6\",\"angularaxis\":{\"gridcolor\":\"white\",\"linecolor\":\"white\",\"ticks\":\"\"},\"radialaxis\":{\"gridcolor\":\"white\",\"linecolor\":\"white\",\"ticks\":\"\"}},\"ternary\":{\"bgcolor\":\"#E5ECF6\",\"aaxis\":{\"gridcolor\":\"white\",\"linecolor\":\"white\",\"ticks\":\"\"},\"baxis\":{\"gridcolor\":\"white\",\"linecolor\":\"white\",\"ticks\":\"\"},\"caxis\":{\"gridcolor\":\"white\",\"linecolor\":\"white\",\"ticks\":\"\"}},\"coloraxis\":{\"colorbar\":{\"outlinewidth\":0,\"ticks\":\"\"}},\"colorscale\":{\"sequential\":[[0.0,\"#0d0887\"],[0.1111111111111111,\"#46039f\"],[0.2222222222222222,\"#7201a8\"],[0.3333333333333333,\"#9c179e\"],[0.4444444444444444,\"#bd3786\"],[0.5555555555555556,\"#d8576b\"],[0.6666666666666666,\"#ed7953\"],[0.7777777777777778,\"#fb9f3a\"],[0.8888888888888888,\"#fdca26\"],[1.0,\"#f0f921\"]],\"sequentialminus\":[[0.0,\"#0d0887\"],[0.1111111111111111,\"#46039f\"],[0.2222222222222222,\"#7201a8\"],[0.3333333333333333,\"#9c179e\"],[0.4444444444444444,\"#bd3786\"],[0.5555555555555556,\"#d8576b\"],[0.6666666666666666,\"#ed7953\"],[0.7777777777777778,\"#fb9f3a\"],[0.8888888888888888,\"#fdca26\"],[1.0,\"#f0f921\"]],\"diverging\":[[0,\"#8e0152\"],[0.1,\"#c51b7d\"],[0.2,\"#de77ae\"],[0.3,\"#f1b6da\"],[0.4,\"#fde0ef\"],[0.5,\"#f7f7f7\"],[0.6,\"#e6f5d0\"],[0.7,\"#b8e186\"],[0.8,\"#7fbc41\"],[0.9,\"#4d9221\"],[1,\"#276419\"]]},\"xaxis\":{\"gridcolor\":\"white\",\"linecolor\":\"white\",\"ticks\":\"\",\"title\":{\"standoff\":15},\"zerolinecolor\":\"white\",\"automargin\":true,\"zerolinewidth\":2},\"yaxis\":{\"gridcolor\":\"white\",\"linecolor\":\"white\",\"ticks\":\"\",\"title\":{\"standoff\":15},\"zerolinecolor\":\"white\",\"automargin\":true,\"zerolinewidth\":2},\"scene\":{\"xaxis\":{\"backgroundcolor\":\"#E5ECF6\",\"gridcolor\":\"white\",\"linecolor\":\"white\",\"showbackground\":true,\"ticks\":\"\",\"zerolinecolor\":\"white\",\"gridwidth\":2},\"yaxis\":{\"backgroundcolor\":\"#E5ECF6\",\"gridcolor\":\"white\",\"linecolor\":\"white\",\"showbackground\":true,\"ticks\":\"\",\"zerolinecolor\":\"white\",\"gridwidth\":2},\"zaxis\":{\"backgroundcolor\":\"#E5ECF6\",\"gridcolor\":\"white\",\"linecolor\":\"white\",\"showbackground\":true,\"ticks\":\"\",\"zerolinecolor\":\"white\",\"gridwidth\":2}},\"shapedefaults\":{\"line\":{\"color\":\"#2a3f5f\"}},\"annotationdefaults\":{\"arrowcolor\":\"#2a3f5f\",\"arrowhead\":0,\"arrowwidth\":1},\"geo\":{\"bgcolor\":\"white\",\"landcolor\":\"#E5ECF6\",\"subunitcolor\":\"white\",\"showland\":true,\"showlakes\":true,\"lakecolor\":\"white\"},\"title\":{\"x\":0.05},\"mapbox\":{\"style\":\"light\"}}},\"xaxis\":{\"anchor\":\"y\",\"domain\":[0.0,0.3066666666666667],\"type\":\"log\",\"tickvals\":[1,2,3,4,5,10,15,20,25]},\"yaxis\":{\"anchor\":\"x\",\"domain\":[0.0,1.0],\"range\":[0,70],\"title\":{\"text\":\"Token overlap F1 score\",\"standoff\":0}},\"xaxis2\":{\"anchor\":\"y2\",\"domain\":[0.3466666666666667,0.6533333333333333],\"type\":\"log\",\"tickvals\":[1,2,3,4,5,10,15,20,25]},\"yaxis2\":{\"anchor\":\"x2\",\"domain\":[0.0,1.0],\"range\":[0,70],\"title\":{\"text\":\"Token overlap F1 score\",\"standoff\":0}},\"xaxis3\":{\"anchor\":\"y3\",\"domain\":[0.6933333333333334,1.0],\"type\":\"log\",\"tickvals\":[1,2,3,4,5,10,15,20,25]},\"yaxis3\":{\"anchor\":\"x3\",\"domain\":[0.0,1.0],\"range\":[0,70],\"title\":{\"text\":\"Accuracy\",\"standoff\":0}},\"annotations\":[{\"font\":{\"size\":12},\"showarrow\":false,\"text\":\"EntailmentBank-Easy\",\"x\":0.15333333333333335,\"xanchor\":\"center\",\"xref\":\"paper\",\"y\":1.0,\"yanchor\":\"bottom\",\"yref\":\"paper\"},{\"font\":{\"size\":12},\"showarrow\":false,\"text\":\"EntailmentBank-Hard\",\"x\":0.5,\"xanchor\":\"center\",\"xref\":\"paper\",\"y\":1.0,\"yanchor\":\"bottom\",\"yref\":\"paper\"},{\"font\":{\"size\":12},\"showarrow\":false,\"text\":\"StrategyQA\",\"x\":0.8466666666666667,\"xanchor\":\"center\",\"xref\":\"paper\",\"y\":1.0,\"yanchor\":\"bottom\",\"yref\":\"paper\"},{\"font\":{\"size\":12},\"showarrow\":false,\"text\":\"# of retrieved statements\",\"x\":0.5,\"xanchor\":\"center\",\"xref\":\"paper\",\"y\":0,\"yanchor\":\"top\",\"yref\":\"paper\",\"yshift\":-30}],\"legend\":{\"font\":{\"size\":11},\"orientation\":\"h\",\"yanchor\":\"top\",\"y\":1.3,\"xanchor\":\"left\",\"x\":0.13},\"font\":{\"size\":9},\"autosize\":false,\"width\":800,\"height\":250,\"margin\":{\"l\":40,\"r\":0,\"b\":50,\"t\":20}},                        {\"responsive\": true}                    ).then(function(){\n",
              "                            \n",
              "var gd = document.getElementById('df038a4c-5655-4162-a6c0-95cc89e5371f');\n",
              "var x = new MutationObserver(function (mutations, observer) {{\n",
              "        var display = window.getComputedStyle(gd).display;\n",
              "        if (!display || display === 'none') {{\n",
              "            console.log([gd, 'removed!']);\n",
              "            Plotly.purge(gd);\n",
              "            observer.disconnect();\n",
              "        }}\n",
              "}});\n",
              "\n",
              "// Listen for the removal of the full notebook cells\n",
              "var notebookContainer = gd.closest('#notebook-container');\n",
              "if (notebookContainer) {{\n",
              "    x.observe(notebookContainer, {childList: true});\n",
              "}}\n",
              "\n",
              "// Listen for the clearing of the current output cell\n",
              "var outputEl = gd.closest('.output');\n",
              "if (outputEl) {{\n",
              "    x.observe(outputEl, {childList: true});\n",
              "}}\n",
              "\n",
              "                        })                };                            </script>        </div>\n",
              "</body>\n",
              "</html>"
            ]
          },
          "metadata": {}
        }
      ]
    },
    {
      "cell_type": "markdown",
      "metadata": {
        "id": "6980292e"
      },
      "source": [
        "## Retriever and LM Contribution"
      ],
      "id": "6980292e"
    },
    {
      "cell_type": "code",
      "execution_count": 16,
      "metadata": {
        "id": "d785e39a"
      },
      "outputs": [],
      "source": [
        "# Retriever\n",
        "ret_lm = {}\n",
        "ret_lm['REALM'] = {\n",
        "    'recall':     [0.1899, 0.2916, 0.3677, 0.4232, 0.4696, 0.6499, 0.7965, 0.9282, 1.000, 1.000],\n",
        "}\n",
        "ret_lm['DPR'] = {\n",
        "    'recall':     [0.0414, 0.0789, 0.1179, 0.1689, 0.2129, 0.4251, 0.6318, 0.8282, 1.000, 1.000],\n",
        "}\n",
        "ret_lm['kNN-LM'] = {\n",
        "    'recall':     [0.1770, 0.2344, 0.2755, 0.3063, 0.3275, 0.4215, 0.4987, 0.5831, 0.6419, 0.8759],\n",
        "}\n",
        "ret_lm['Contriever'] = {\n",
        "    'recall':     [0.2630, 0.4317, 0.5076, 0.5683, 0.6202, 0.7780, 0.8735, 0.9410, 1.000, 1.000],\n",
        "}"
      ],
      "id": "d785e39a"
    },
    {
      "cell_type": "code",
      "execution_count": 35,
      "metadata": {
        "id": "ZLpmGDu6jRja"
      },
      "outputs": [],
      "source": [
        "# Retriever\n",
        "ret_qa = {}\n",
        "ret_qa['REALM'] = {\n",
        "    'recall':     [0.2103, 0.3214, 0.3949, 0.4688, 0.5132, 0.6931, 0.8290, 0.9214, 1.000, 1.000],\n",
        "}\n",
        "ret_qa['DPR'] = {\n",
        "    'recall':     [0.0270, 0.0687, 0.1148, 0.1594, 0.1846, 0.3780, 0.5995, 0.7905, 1.000, 1.000],\n",
        "}\n",
        "ret_qa['kNN-LM'] = {\n",
        "    'recall':     [0.0576, 0.0935, 0.1284, 0.1445, 0.1624, 0.2923, 0.4276, 0.5658, 0.6760, 0.8903],\n",
        "}\n",
        "ret_qa['Contriever'] = {\n",
        "    'recall':     [0.2396, 0.3579, 0.4273, 0.4869, 0.5357, 0.7100, 0.8247, 0.9234, 1.000, 1.000],\n",
        "}"
      ],
      "id": "ZLpmGDu6jRja"
    },
    {
      "cell_type": "code",
      "execution_count": 33,
      "metadata": {
        "colab": {
          "base_uri": "https://localhost:8080/",
          "height": 417
        },
        "id": "XMhkKiJW9bEo",
        "outputId": "52bb957b-511b-41f4-e945-c00330865a02"
      },
      "outputs": [
        {
          "output_type": "display_data",
          "data": {
            "text/html": [
              "<html>\n",
              "<head><meta charset=\"utf-8\" /></head>\n",
              "<body>\n",
              "    <div>            <script src=\"https://cdnjs.cloudflare.com/ajax/libs/mathjax/2.7.5/MathJax.js?config=TeX-AMS-MML_SVG\"></script><script type=\"text/javascript\">if (window.MathJax && window.MathJax.Hub && window.MathJax.Hub.Config) {window.MathJax.Hub.Config({SVG: {font: \"STIX-Web\"}});}</script>                <script type=\"text/javascript\">window.PlotlyConfig = {MathJaxConfig: 'local'};</script>\n",
              "        <script src=\"https://cdn.plot.ly/plotly-2.18.2.min.js\"></script>                <div id=\"2abee61b-2a15-4c0b-86c5-2515b51f8210\" class=\"plotly-graph-div\" style=\"height:400px; width:400px;\"></div>            <script type=\"text/javascript\">                                    window.PLOTLYENV=window.PLOTLYENV || {};                                    if (document.getElementById(\"2abee61b-2a15-4c0b-86c5-2515b51f8210\")) {                    Plotly.newPlot(                        \"2abee61b-2a15-4c0b-86c5-2515b51f8210\",                        [{\"line\":{\"shape\":\"spline\"},\"marker\":{\"color\":\"#19D3F3\",\"symbol\":\"circle\"},\"name\":\"REALM\",\"showlegend\":true,\"x\":[1,2,3,4,5,10,15,20,25,100],\"y\":[18.990000000000002,29.160000000000004,36.77,42.32,46.96,64.99000000000001,79.65,92.82000000000001,100.0,100.0],\"type\":\"scatter\",\"xaxis\":\"x\",\"yaxis\":\"y\"},{\"line\":{\"shape\":\"spline\"},\"marker\":{\"color\":\"#FF6692\",\"symbol\":\"square\"},\"name\":\"DPR\",\"showlegend\":true,\"x\":[1,2,3,4,5,10,15,20,25,100],\"y\":[4.14,7.89,11.790000000000001,16.89,21.29,42.51,63.18,82.82000000000001,100.0,100.0],\"type\":\"scatter\",\"xaxis\":\"x\",\"yaxis\":\"y\"},{\"line\":{\"shape\":\"spline\"},\"marker\":{\"color\":\"#B6E880\",\"symbol\":\"triangle-right\"},\"name\":\"kNN-LM\",\"showlegend\":true,\"x\":[1,2,3,4,5,10,15,20,25,100],\"y\":[17.7,23.44,27.55,30.630000000000003,32.75,42.15,49.87,58.309999999999995,64.19,87.59],\"type\":\"scatter\",\"xaxis\":\"x\",\"yaxis\":\"y\"},{\"line\":{\"shape\":\"spline\"},\"marker\":{\"color\":\"#FF97FF\",\"symbol\":\"star\"},\"name\":\"Contriever\",\"showlegend\":true,\"x\":[1,2,3,4,5,10,15,20,25,100],\"y\":[26.3,43.169999999999995,50.760000000000005,56.830000000000005,62.019999999999996,77.8,87.35000000000001,94.1,100.0,100.0],\"type\":\"scatter\",\"xaxis\":\"x\",\"yaxis\":\"y\"},{\"line\":{\"shape\":\"spline\"},\"marker\":{\"color\":\"#19D3F3\",\"symbol\":\"circle\"},\"name\":\"REALM\",\"showlegend\":false,\"x\":[1,2,3,4,5,10,15,20,25,100],\"y\":[21.029999999999998,32.14,39.489999999999995,46.88,51.32,69.31,82.89999999999999,92.14,100.0,100.0],\"type\":\"scatter\",\"xaxis\":\"x2\",\"yaxis\":\"y2\"},{\"line\":{\"shape\":\"spline\"},\"marker\":{\"color\":\"#FF6692\",\"symbol\":\"square\"},\"name\":\"DPR\",\"showlegend\":false,\"x\":[1,2,3,4,5,10,15,20,25,100],\"y\":[2.7,6.87,11.48,15.939999999999998,18.459999999999997,37.8,59.95,79.05,100.0,100.0],\"type\":\"scatter\",\"xaxis\":\"x2\",\"yaxis\":\"y2\"},{\"line\":{\"shape\":\"spline\"},\"marker\":{\"color\":\"#B6E880\",\"symbol\":\"triangle-right\"},\"name\":\"kNN-LM\",\"showlegend\":false,\"x\":[1,2,3,4,5,10,15,20,25,100],\"y\":[5.76,9.35,12.839999999999998,14.45,16.24,29.23,42.76,56.58,67.60000000000001,89.03],\"type\":\"scatter\",\"xaxis\":\"x2\",\"yaxis\":\"y2\"},{\"line\":{\"shape\":\"spline\"},\"marker\":{\"color\":\"#FF97FF\",\"symbol\":\"star\"},\"name\":\"Contriever\",\"showlegend\":false,\"x\":[1,2,3,4,5,10,15,20,25,100],\"y\":[23.96,35.79,42.730000000000004,48.69,53.56999999999999,71.0,82.47,92.34,100.0,100.0],\"type\":\"scatter\",\"xaxis\":\"x2\",\"yaxis\":\"y2\"}],                        {\"template\":{\"data\":{\"histogram2dcontour\":[{\"type\":\"histogram2dcontour\",\"colorbar\":{\"outlinewidth\":0,\"ticks\":\"\"},\"colorscale\":[[0.0,\"#0d0887\"],[0.1111111111111111,\"#46039f\"],[0.2222222222222222,\"#7201a8\"],[0.3333333333333333,\"#9c179e\"],[0.4444444444444444,\"#bd3786\"],[0.5555555555555556,\"#d8576b\"],[0.6666666666666666,\"#ed7953\"],[0.7777777777777778,\"#fb9f3a\"],[0.8888888888888888,\"#fdca26\"],[1.0,\"#f0f921\"]]}],\"choropleth\":[{\"type\":\"choropleth\",\"colorbar\":{\"outlinewidth\":0,\"ticks\":\"\"}}],\"histogram2d\":[{\"type\":\"histogram2d\",\"colorbar\":{\"outlinewidth\":0,\"ticks\":\"\"},\"colorscale\":[[0.0,\"#0d0887\"],[0.1111111111111111,\"#46039f\"],[0.2222222222222222,\"#7201a8\"],[0.3333333333333333,\"#9c179e\"],[0.4444444444444444,\"#bd3786\"],[0.5555555555555556,\"#d8576b\"],[0.6666666666666666,\"#ed7953\"],[0.7777777777777778,\"#fb9f3a\"],[0.8888888888888888,\"#fdca26\"],[1.0,\"#f0f921\"]]}],\"heatmap\":[{\"type\":\"heatmap\",\"colorbar\":{\"outlinewidth\":0,\"ticks\":\"\"},\"colorscale\":[[0.0,\"#0d0887\"],[0.1111111111111111,\"#46039f\"],[0.2222222222222222,\"#7201a8\"],[0.3333333333333333,\"#9c179e\"],[0.4444444444444444,\"#bd3786\"],[0.5555555555555556,\"#d8576b\"],[0.6666666666666666,\"#ed7953\"],[0.7777777777777778,\"#fb9f3a\"],[0.8888888888888888,\"#fdca26\"],[1.0,\"#f0f921\"]]}],\"heatmapgl\":[{\"type\":\"heatmapgl\",\"colorbar\":{\"outlinewidth\":0,\"ticks\":\"\"},\"colorscale\":[[0.0,\"#0d0887\"],[0.1111111111111111,\"#46039f\"],[0.2222222222222222,\"#7201a8\"],[0.3333333333333333,\"#9c179e\"],[0.4444444444444444,\"#bd3786\"],[0.5555555555555556,\"#d8576b\"],[0.6666666666666666,\"#ed7953\"],[0.7777777777777778,\"#fb9f3a\"],[0.8888888888888888,\"#fdca26\"],[1.0,\"#f0f921\"]]}],\"contourcarpet\":[{\"type\":\"contourcarpet\",\"colorbar\":{\"outlinewidth\":0,\"ticks\":\"\"}}],\"contour\":[{\"type\":\"contour\",\"colorbar\":{\"outlinewidth\":0,\"ticks\":\"\"},\"colorscale\":[[0.0,\"#0d0887\"],[0.1111111111111111,\"#46039f\"],[0.2222222222222222,\"#7201a8\"],[0.3333333333333333,\"#9c179e\"],[0.4444444444444444,\"#bd3786\"],[0.5555555555555556,\"#d8576b\"],[0.6666666666666666,\"#ed7953\"],[0.7777777777777778,\"#fb9f3a\"],[0.8888888888888888,\"#fdca26\"],[1.0,\"#f0f921\"]]}],\"surface\":[{\"type\":\"surface\",\"colorbar\":{\"outlinewidth\":0,\"ticks\":\"\"},\"colorscale\":[[0.0,\"#0d0887\"],[0.1111111111111111,\"#46039f\"],[0.2222222222222222,\"#7201a8\"],[0.3333333333333333,\"#9c179e\"],[0.4444444444444444,\"#bd3786\"],[0.5555555555555556,\"#d8576b\"],[0.6666666666666666,\"#ed7953\"],[0.7777777777777778,\"#fb9f3a\"],[0.8888888888888888,\"#fdca26\"],[1.0,\"#f0f921\"]]}],\"mesh3d\":[{\"type\":\"mesh3d\",\"colorbar\":{\"outlinewidth\":0,\"ticks\":\"\"}}],\"scatter\":[{\"fillpattern\":{\"fillmode\":\"overlay\",\"size\":10,\"solidity\":0.2},\"type\":\"scatter\"}],\"parcoords\":[{\"type\":\"parcoords\",\"line\":{\"colorbar\":{\"outlinewidth\":0,\"ticks\":\"\"}}}],\"scatterpolargl\":[{\"type\":\"scatterpolargl\",\"marker\":{\"colorbar\":{\"outlinewidth\":0,\"ticks\":\"\"}}}],\"bar\":[{\"error_x\":{\"color\":\"#2a3f5f\"},\"error_y\":{\"color\":\"#2a3f5f\"},\"marker\":{\"line\":{\"color\":\"#E5ECF6\",\"width\":0.5},\"pattern\":{\"fillmode\":\"overlay\",\"size\":10,\"solidity\":0.2}},\"type\":\"bar\"}],\"scattergeo\":[{\"type\":\"scattergeo\",\"marker\":{\"colorbar\":{\"outlinewidth\":0,\"ticks\":\"\"}}}],\"scatterpolar\":[{\"type\":\"scatterpolar\",\"marker\":{\"colorbar\":{\"outlinewidth\":0,\"ticks\":\"\"}}}],\"histogram\":[{\"marker\":{\"pattern\":{\"fillmode\":\"overlay\",\"size\":10,\"solidity\":0.2}},\"type\":\"histogram\"}],\"scattergl\":[{\"type\":\"scattergl\",\"marker\":{\"colorbar\":{\"outlinewidth\":0,\"ticks\":\"\"}}}],\"scatter3d\":[{\"type\":\"scatter3d\",\"line\":{\"colorbar\":{\"outlinewidth\":0,\"ticks\":\"\"}},\"marker\":{\"colorbar\":{\"outlinewidth\":0,\"ticks\":\"\"}}}],\"scattermapbox\":[{\"type\":\"scattermapbox\",\"marker\":{\"colorbar\":{\"outlinewidth\":0,\"ticks\":\"\"}}}],\"scatterternary\":[{\"type\":\"scatterternary\",\"marker\":{\"colorbar\":{\"outlinewidth\":0,\"ticks\":\"\"}}}],\"scattercarpet\":[{\"type\":\"scattercarpet\",\"marker\":{\"colorbar\":{\"outlinewidth\":0,\"ticks\":\"\"}}}],\"carpet\":[{\"aaxis\":{\"endlinecolor\":\"#2a3f5f\",\"gridcolor\":\"white\",\"linecolor\":\"white\",\"minorgridcolor\":\"white\",\"startlinecolor\":\"#2a3f5f\"},\"baxis\":{\"endlinecolor\":\"#2a3f5f\",\"gridcolor\":\"white\",\"linecolor\":\"white\",\"minorgridcolor\":\"white\",\"startlinecolor\":\"#2a3f5f\"},\"type\":\"carpet\"}],\"table\":[{\"cells\":{\"fill\":{\"color\":\"#EBF0F8\"},\"line\":{\"color\":\"white\"}},\"header\":{\"fill\":{\"color\":\"#C8D4E3\"},\"line\":{\"color\":\"white\"}},\"type\":\"table\"}],\"barpolar\":[{\"marker\":{\"line\":{\"color\":\"#E5ECF6\",\"width\":0.5},\"pattern\":{\"fillmode\":\"overlay\",\"size\":10,\"solidity\":0.2}},\"type\":\"barpolar\"}],\"pie\":[{\"automargin\":true,\"type\":\"pie\"}]},\"layout\":{\"autotypenumbers\":\"strict\",\"colorway\":[\"#636efa\",\"#EF553B\",\"#00cc96\",\"#ab63fa\",\"#FFA15A\",\"#19d3f3\",\"#FF6692\",\"#B6E880\",\"#FF97FF\",\"#FECB52\"],\"font\":{\"color\":\"#2a3f5f\"},\"hovermode\":\"closest\",\"hoverlabel\":{\"align\":\"left\"},\"paper_bgcolor\":\"white\",\"plot_bgcolor\":\"#E5ECF6\",\"polar\":{\"bgcolor\":\"#E5ECF6\",\"angularaxis\":{\"gridcolor\":\"white\",\"linecolor\":\"white\",\"ticks\":\"\"},\"radialaxis\":{\"gridcolor\":\"white\",\"linecolor\":\"white\",\"ticks\":\"\"}},\"ternary\":{\"bgcolor\":\"#E5ECF6\",\"aaxis\":{\"gridcolor\":\"white\",\"linecolor\":\"white\",\"ticks\":\"\"},\"baxis\":{\"gridcolor\":\"white\",\"linecolor\":\"white\",\"ticks\":\"\"},\"caxis\":{\"gridcolor\":\"white\",\"linecolor\":\"white\",\"ticks\":\"\"}},\"coloraxis\":{\"colorbar\":{\"outlinewidth\":0,\"ticks\":\"\"}},\"colorscale\":{\"sequential\":[[0.0,\"#0d0887\"],[0.1111111111111111,\"#46039f\"],[0.2222222222222222,\"#7201a8\"],[0.3333333333333333,\"#9c179e\"],[0.4444444444444444,\"#bd3786\"],[0.5555555555555556,\"#d8576b\"],[0.6666666666666666,\"#ed7953\"],[0.7777777777777778,\"#fb9f3a\"],[0.8888888888888888,\"#fdca26\"],[1.0,\"#f0f921\"]],\"sequentialminus\":[[0.0,\"#0d0887\"],[0.1111111111111111,\"#46039f\"],[0.2222222222222222,\"#7201a8\"],[0.3333333333333333,\"#9c179e\"],[0.4444444444444444,\"#bd3786\"],[0.5555555555555556,\"#d8576b\"],[0.6666666666666666,\"#ed7953\"],[0.7777777777777778,\"#fb9f3a\"],[0.8888888888888888,\"#fdca26\"],[1.0,\"#f0f921\"]],\"diverging\":[[0,\"#8e0152\"],[0.1,\"#c51b7d\"],[0.2,\"#de77ae\"],[0.3,\"#f1b6da\"],[0.4,\"#fde0ef\"],[0.5,\"#f7f7f7\"],[0.6,\"#e6f5d0\"],[0.7,\"#b8e186\"],[0.8,\"#7fbc41\"],[0.9,\"#4d9221\"],[1,\"#276419\"]]},\"xaxis\":{\"gridcolor\":\"white\",\"linecolor\":\"white\",\"ticks\":\"\",\"title\":{\"standoff\":15},\"zerolinecolor\":\"white\",\"automargin\":true,\"zerolinewidth\":2},\"yaxis\":{\"gridcolor\":\"white\",\"linecolor\":\"white\",\"ticks\":\"\",\"title\":{\"standoff\":15},\"zerolinecolor\":\"white\",\"automargin\":true,\"zerolinewidth\":2},\"scene\":{\"xaxis\":{\"backgroundcolor\":\"#E5ECF6\",\"gridcolor\":\"white\",\"linecolor\":\"white\",\"showbackground\":true,\"ticks\":\"\",\"zerolinecolor\":\"white\",\"gridwidth\":2},\"yaxis\":{\"backgroundcolor\":\"#E5ECF6\",\"gridcolor\":\"white\",\"linecolor\":\"white\",\"showbackground\":true,\"ticks\":\"\",\"zerolinecolor\":\"white\",\"gridwidth\":2},\"zaxis\":{\"backgroundcolor\":\"#E5ECF6\",\"gridcolor\":\"white\",\"linecolor\":\"white\",\"showbackground\":true,\"ticks\":\"\",\"zerolinecolor\":\"white\",\"gridwidth\":2}},\"shapedefaults\":{\"line\":{\"color\":\"#2a3f5f\"}},\"annotationdefaults\":{\"arrowcolor\":\"#2a3f5f\",\"arrowhead\":0,\"arrowwidth\":1},\"geo\":{\"bgcolor\":\"white\",\"landcolor\":\"#E5ECF6\",\"subunitcolor\":\"white\",\"showland\":true,\"showlakes\":true,\"lakecolor\":\"white\"},\"title\":{\"x\":0.05},\"mapbox\":{\"style\":\"light\"}}},\"xaxis\":{\"anchor\":\"y\",\"domain\":[0.0,1.0],\"type\":\"log\",\"tickvals\":[1,2,3,4,5,10,15,20,25,100],\"tickangle\":90},\"yaxis\":{\"anchor\":\"x\",\"domain\":[0.56,1.0]},\"xaxis2\":{\"anchor\":\"y2\",\"domain\":[0.0,1.0],\"type\":\"log\",\"tickvals\":[1,2,3,4,5,10,15,20,25,100],\"tickangle\":90},\"yaxis2\":{\"anchor\":\"x2\",\"domain\":[0.0,0.44]},\"annotations\":[{\"font\":{\"size\":11},\"showarrow\":false,\"text\":\"Language Modeling\",\"x\":0.5,\"xanchor\":\"center\",\"xref\":\"paper\",\"y\":1.0,\"yanchor\":\"bottom\",\"yref\":\"paper\"},{\"font\":{\"size\":11},\"showarrow\":false,\"text\":\"Question Answering\",\"x\":0.5,\"xanchor\":\"center\",\"xref\":\"paper\",\"y\":0.44,\"yanchor\":\"bottom\",\"yref\":\"paper\"},{\"font\":{\"size\":11},\"showarrow\":false,\"text\":\"# of retrieved statements\",\"x\":0.5,\"xanchor\":\"center\",\"xref\":\"paper\",\"y\":0,\"yanchor\":\"top\",\"yref\":\"paper\",\"yshift\":-30},{\"font\":{\"size\":11},\"showarrow\":false,\"text\":\"Retrieved statements recall score\",\"textangle\":-90,\"x\":-0.12,\"xref\":\"paper\",\"y\":0.5,\"yref\":\"paper\"}],\"legend\":{\"font\":{\"size\":11},\"orientation\":\"h\",\"yanchor\":\"top\",\"y\":1.13,\"x\":0.01},\"font\":{\"size\":11},\"autosize\":false,\"width\":400,\"height\":400,\"margin\":{\"l\":40,\"r\":10,\"b\":50,\"t\":20}},                        {\"responsive\": true}                    ).then(function(){\n",
              "                            \n",
              "var gd = document.getElementById('2abee61b-2a15-4c0b-86c5-2515b51f8210');\n",
              "var x = new MutationObserver(function (mutations, observer) {{\n",
              "        var display = window.getComputedStyle(gd).display;\n",
              "        if (!display || display === 'none') {{\n",
              "            console.log([gd, 'removed!']);\n",
              "            Plotly.purge(gd);\n",
              "            observer.disconnect();\n",
              "        }}\n",
              "}});\n",
              "\n",
              "// Listen for the removal of the full notebook cells\n",
              "var notebookContainer = gd.closest('#notebook-container');\n",
              "if (notebookContainer) {{\n",
              "    x.observe(notebookContainer, {childList: true});\n",
              "}}\n",
              "\n",
              "// Listen for the clearing of the current output cell\n",
              "var outputEl = gd.closest('.output');\n",
              "if (outputEl) {{\n",
              "    x.observe(outputEl, {childList: true});\n",
              "}}\n",
              "\n",
              "                        })                };                            </script>        </div>\n",
              "</body>\n",
              "</html>"
            ]
          },
          "metadata": {}
        }
      ],
      "source": [
        "# Retriever Recall\n",
        "\n",
        "x=[1,2,3,4,5,10,15,20,25,100]\n",
        "key=['all', 'gold']\n",
        "\n",
        "fig = make_subplots(rows=2, cols=1, subplot_titles=(\"Language Modeling\", \"Question Answering\"), vertical_spacing = 0.12, horizontal_spacing = 0.01, x_title='# of retrieved statements')\n",
        "\n",
        "for i, (ret, ys) in enumerate(ret_lm.items()):\n",
        "    fig.add_trace(go.Scatter(x=x, y=[y*100 for y in ys['recall']], name=ret, line_shape='spline', marker_symbol=symbols[i], marker_color=colors[i+5], showlegend=True), row=1, col=1)\n",
        "for i, (ret, ys) in enumerate(ret_qa.items()):\n",
        "    fig.add_trace(go.Scatter(x=x, y=[y*100 for y in ys['recall']], name=ret, line_shape='spline', marker_symbol=symbols[i], marker_color=colors[i+5], showlegend=False), row=2, col=1)\n",
        "\n",
        "fig.update_xaxes(type=\"log\", tickvals=x, tickangle=90)\n",
        "fig.update_layout(legend=dict(\n",
        "    orientation=\"h\",\n",
        "    yanchor=\"top\",\n",
        "    y=1.13,\n",
        "    x=0.01,\n",
        "    font_size=11\n",
        "))\n",
        "\n",
        "fig.add_annotation(dict(x=-0.12,\n",
        "                            y=0.5,\n",
        "                            showarrow=False,\n",
        "                            font_size=11,\n",
        "                            text='Retrieved statements recall score',\n",
        "                            textangle=-90,\n",
        "                            xref=\"paper\",\n",
        "                            yref=\"paper\"\n",
        "                           )\n",
        "                  )\n",
        "\n",
        "fig.update_layout(font_size=11)\n",
        "fig.update_layout(autosize=False, width=400, height=400)\n",
        "fig.update_annotations(font=dict(size=11))\n",
        "fig.update_layout(margin=dict(l=40,r=10,b=50,t=20))\n",
        "fig.show()\n"
      ],
      "id": "XMhkKiJW9bEo"
    },
    {
      "cell_type": "code",
      "source": [
        "# LM\n",
        "all_vs_gold_lm = {}\n",
        "all_vs_gold_lm['REALM'] = {\n",
        "    'acc': {\n",
        "      'all': [0.6958, 0.7529, 0.7719, 0.7947, 0.7871, 0.8061, 0.8327, 0.8289, 0.8251, 0.8251],\n",
        "      'gold': [0.6904, 0.7937, 0.8175, 0.8333, 0.8413, 0.8452, 0.8452, 0.8452, 0.8452, 0.8452]\n",
        "    },\n",
        "    'hits1': {\n",
        "        'all': [0.1787, 0.3004, 0.3422, 0.3992, 0.4449, 0.4981, 0.4943, 0.5475, 0.5513, 0.5513],\n",
        "        'gold': [0.1984, 0.3651, 0.4444, 0.4643, 0.5000, 0.5159, 0.5079, 0.5079, 0.5079, 0.5079]\n",
        "    }\n",
        "}\n",
        "all_vs_gold_lm['DPR + FiD'] = {\n",
        "    'acc': {\n",
        "        'all': [0.6160, 0.6654, 0.6654, 0.6806, 0.6996, 0.7490, 0.7567, 0.7414, 0.7490, 0.7490],\n",
        "        'gold': [0.6944, 0.7698, 0.7817, 0.7778, 0.7897, 0.7976, 0.7976, 0.7976, 0.7976, 0.7976]\n",
        "    },\n",
        "    'hits1': {\n",
        "        'all': [0.0798, 0.0989, 0.1331, 0.1521, 0.1711, 0.2053, 0.2281, 0.2510, 0.2395, 0.2395],\n",
        "        'gold': [0.1746, 0.2143, 0.2460, 0.2460, 0.2500, 0.2698, 0.2698, 0.2698, 0.2698, 0.2698]\n",
        "    }\n",
        "}\n",
        "all_vs_gold_lm['DPR + Flan-T5'] = {\n",
        "    'acc': {\n",
        "        'all': [0.3916, 0.3764, 0.3650, 0.3612, 0.3954, 0.3726, 0.3954, 0.3954, 0.3916, 0.3916],\n",
        "      'gold': [0.4325, 0.4286, 0.4365, 0.4405, 0.4484, 0.4643, 0.4563, 0.4563, 0.4563, 0.4563]\n",
        "    },\n",
        "    'hits1': {\n",
        "        'all': [0.0760, 0.0760, 0.0532, 0.0722, 0.0837, 0.0494, 0.0418, 0.0380, 0.0342, 0.0342],\n",
        "        'gold': [0.1429, 0.1349, 0.1667, 0.1429, 0.1389, 0.1389, 0.1389, 0.1389, 0.1389, 0.1389]\n",
        "    }\n",
        "}\n",
        "all_vs_gold_lm['kNN-LM'] = {\n",
        "    'acc': {\n",
        "        'all': [0.5741, 0.6312, 0.6198, 0.6236, 0.6274, 0.6160, 0.6008, 0.5932, 0.5932, 0.5817],\n",
        "        'gold': [0.6190, 0.6349, 0.6548, 0.6389, 0.6389, 0.6151, 0.6190, 0.6151, 0.6190, 0.6190]\n",
        "    },\n",
        "    'hits1': {\n",
        "        'all': [0.4030, 0.4030, 0.4144, 0.4106, 0.4068, 0.4144, 0.4068, 0.3954, 0.3954, 0.3954],\n",
        "        'gold': [0.3889, 0.3889, 0.3849, 0.3929, 0.3968, 0.3968, 0.3968, 0.3968, 0.3968, 0.3968]\n",
        "    }\n",
        "}\n",
        "all_vs_gold_lm['Contriever + ATLAS'] = {\n",
        "    'acc': {\n",
        "        'all': [0.8175, 0.8517, 0.8593, 0.8593, 0.8631, 0.8555, 0.8517, 0.8517, 0.8441, 0.8441],\n",
        "        'gold': [0.8452, 0.8730, 0.8730, 0.8849, 0.8849, 0.8810, 0.8810, 0.8810, 0.8810, 0.8810]\n",
        "    },\n",
        "    'hits1': {\n",
        "        'all': [0.3270, 0.4715, 0.5057, 0.5361, 0.5437, 0.5665, 0.5475, 0.5323, 0.5209, 0.5209],\n",
        "        'gold': [0.3214, 0.4802, 0.5278, 0.5198, 0.5198, 0.5278, 0.5278, 0.5278, 0.5278, 0.5278]\n",
        "    }\n",
        "}"
      ],
      "metadata": {
        "id": "XlizYuN_wmMd"
      },
      "id": "XlizYuN_wmMd",
      "execution_count": 18,
      "outputs": []
    },
    {
      "cell_type": "code",
      "execution_count": 27,
      "metadata": {
        "id": "c52276c1"
      },
      "outputs": [],
      "source": [
        "# LM\n",
        "all_vs_gold_qa = {}\n",
        "all_vs_gold_qa['REALM'] = {\n",
        "    'all': [0.1189, 0.1233, 0.1314, 0.1314, 0.1314, 0.1314, 0.1314, 0.1314, 0.1314, 0.1314],\n",
        "    'gold': [0.1928, 0.1984, 0.1984, 0.1984, 0.1984, 0.1984, 0.1984, 0.1984, 0.1984, 0.1984]\n",
        "}\n",
        "all_vs_gold_qa['DPR + FiD'] = {\n",
        "    'all': [0.0552, 0.0644, 0.0804, 0.0974, 0.1135, 0.1562, 0.2124, 0.2475, 0.2732, 0.2732],\n",
        "    'gold': [0.2334, 0.2753, 0.2943, 0.3030, 0.3062, 0.3130, 0.3130, 0.3130, 0.3130, 0.3130]\n",
        "}\n",
        "all_vs_gold_qa['DPR + Flan-T5'] = {\n",
        "    'all': [0.0947, 0.1480, 0.1604, 0.1644, 0.1939, 0.2445, 0.2873, 0.3200, 0.3619, 0.3619],\n",
        "    'gold': [0.2112, 0.3548, 0.4043, 0.4033, 0.4063, 0.4194, 0.4190, 0.4190, 0.4190, 0.4190]\n",
        "}\n",
        "all_vs_gold_qa['kNN-LM'] = {\n",
        "    'all': [0.1291, 0.1303, 0.1264, 0.1251, 0.1210, 0.1147, 0.1117, 0.1111, 0.1077, 0.1061],\n",
        "    'gold': [0.1698, 0.1664, 0.1672, 0.1643, 0.1651, 0.1588, 0.1596, 0.1596, 0.1596, 0.1596]\n",
        "}\n",
        "all_vs_gold_qa['Contriever + ATLAS'] = {\n",
        "    'all': [0.1874, 0.2373, 0.2767, 0.2839, 0.2906, 0.3317, 0.3348, 0.3314, 0.3374, 0.3374],\n",
        "    'gold': [0.2135, 0.3023, 0.3217, 0.3294, 0.3394, 0.3313, 0.3313, 0.3313, 0.3313, 0.3313]\n",
        "}"
      ],
      "id": "c52276c1"
    },
    {
      "cell_type": "code",
      "source": [
        "# ALL vs GOLD\n",
        "\n",
        "x = np.array([1, 2, 3, 4, 5, 10, 15, 20, 25])\n",
        "key=['all', 'gold']\n",
        "\n",
        "fig = make_subplots(rows=2, cols=1, subplot_titles=(\"Language Modeling\", \"Question Answering\"), horizontal_spacing=0.1, vertical_spacing=0.1)\n",
        "\n",
        "for i, (model, ys) in enumerate(all_vs_gold_lm.items()):\n",
        "    ys = ys['acc']\n",
        "    fig.add_trace(go.Scatter(x=x, y=[y*100 for y in ys[key[0]]], name=model + ' ({})'.format(key[0].upper()), line_shape='spline', line_dash='dot', marker_symbol=symbols[i], marker_color=colors[i], showlegend=True), row=1, col=1)\n",
        "    fig.add_trace(go.Scatter(x=x, y=[y*100 for y in ys[key[1]]], name=model + ' ({})'.format(key[1].upper()), line_shape='spline', marker_symbol=symbols[i], marker_color=colors[i], showlegend=True), row=1, col=1)\n",
        "\n",
        "for i, (model, ys) in enumerate(all_vs_gold_qa.items()):\n",
        "    fig.add_trace(go.Scatter(x=x, y=[y*100 for y in ys[key[0]]], name=model + ' ({})'.format(key[0].upper()), line_shape='spline', line_dash='dot', marker_symbol=symbols[i], marker_color=colors[i], showlegend=False), row=2, col=1)\n",
        "    fig.add_trace(go.Scatter(x=x, y=[y*100 for y in ys[key[1]]], name=model + ' ({})'.format(key[1].upper()), line_shape='spline', marker_symbol=symbols[i], marker_color=colors[i], showlegend=False), row=2, col=1)\n",
        "\n",
        "fig.update_xaxes(type=\"log\", tickvals=x)\n",
        "fig.update_layout(legend=dict(\n",
        "    orientation=\"h\",\n",
        "    yanchor=\"top\",\n",
        "    y=1.35,\n",
        "    xanchor=\"left\",\n",
        "    x=-0.01,\n",
        "    font_size=10\n",
        "))\n",
        "fig.update_layout(font_size=10)\n",
        "fig.update_layout(autosize=False, width=400, height=500)\n",
        "fig.update_annotations(font=dict(size=10))\n",
        "fig.update_layout(\n",
        "                  xaxis2_title='# of retrieved statements',\n",
        "                  yaxis1_title='Target ranking accuracy',\n",
        "                  yaxis2_title='Token overlap F1 score',)\n",
        "fig.update_layout(margin=dict(l=0,r=0,b=0,t=20))\n",
        "fig.show()\n"
      ],
      "metadata": {
        "colab": {
          "base_uri": "https://localhost:8080/",
          "height": 517
        },
        "id": "AND3S_Oc6pBJ",
        "outputId": "ead77ac7-95ff-415d-b4b1-3fecef82c9d8"
      },
      "id": "AND3S_Oc6pBJ",
      "execution_count": 29,
      "outputs": [
        {
          "output_type": "display_data",
          "data": {
            "text/html": [
              "<html>\n",
              "<head><meta charset=\"utf-8\" /></head>\n",
              "<body>\n",
              "    <div>            <script src=\"https://cdnjs.cloudflare.com/ajax/libs/mathjax/2.7.5/MathJax.js?config=TeX-AMS-MML_SVG\"></script><script type=\"text/javascript\">if (window.MathJax && window.MathJax.Hub && window.MathJax.Hub.Config) {window.MathJax.Hub.Config({SVG: {font: \"STIX-Web\"}});}</script>                <script type=\"text/javascript\">window.PlotlyConfig = {MathJaxConfig: 'local'};</script>\n",
              "        <script src=\"https://cdn.plot.ly/plotly-2.18.2.min.js\"></script>                <div id=\"a891acfa-f2cc-41b9-8830-4f48493bfe54\" class=\"plotly-graph-div\" style=\"height:500px; width:400px;\"></div>            <script type=\"text/javascript\">                                    window.PLOTLYENV=window.PLOTLYENV || {};                                    if (document.getElementById(\"a891acfa-f2cc-41b9-8830-4f48493bfe54\")) {                    Plotly.newPlot(                        \"a891acfa-f2cc-41b9-8830-4f48493bfe54\",                        [{\"line\":{\"dash\":\"dot\",\"shape\":\"spline\"},\"marker\":{\"color\":\"#636EFA\",\"symbol\":\"circle\"},\"name\":\"REALM (ALL)\",\"showlegend\":true,\"x\":[1,2,3,4,5,10,15,20,25],\"y\":[69.58,75.29,77.19,79.47,78.71000000000001,80.61,83.27,82.89,82.50999999999999,82.50999999999999],\"type\":\"scatter\",\"xaxis\":\"x\",\"yaxis\":\"y\"},{\"line\":{\"shape\":\"spline\"},\"marker\":{\"color\":\"#636EFA\",\"symbol\":\"circle\"},\"name\":\"REALM (GOLD)\",\"showlegend\":true,\"x\":[1,2,3,4,5,10,15,20,25],\"y\":[69.04,79.36999999999999,81.75,83.33,84.13000000000001,84.52,84.52,84.52,84.52,84.52],\"type\":\"scatter\",\"xaxis\":\"x\",\"yaxis\":\"y\"},{\"line\":{\"dash\":\"dot\",\"shape\":\"spline\"},\"marker\":{\"color\":\"#EF553B\",\"symbol\":\"square\"},\"name\":\"DPR + FiD (ALL)\",\"showlegend\":true,\"x\":[1,2,3,4,5,10,15,20,25],\"y\":[61.6,66.53999999999999,66.53999999999999,68.06,69.96,74.9,75.67,74.14,74.9,74.9],\"type\":\"scatter\",\"xaxis\":\"x\",\"yaxis\":\"y\"},{\"line\":{\"shape\":\"spline\"},\"marker\":{\"color\":\"#EF553B\",\"symbol\":\"square\"},\"name\":\"DPR + FiD (GOLD)\",\"showlegend\":true,\"x\":[1,2,3,4,5,10,15,20,25],\"y\":[69.44,76.98,78.17,77.78,78.97,79.75999999999999,79.75999999999999,79.75999999999999,79.75999999999999,79.75999999999999],\"type\":\"scatter\",\"xaxis\":\"x\",\"yaxis\":\"y\"},{\"line\":{\"dash\":\"dot\",\"shape\":\"spline\"},\"marker\":{\"color\":\"#00CC96\",\"symbol\":\"triangle-right\"},\"name\":\"DPR + Flan-T5 (ALL)\",\"showlegend\":true,\"x\":[1,2,3,4,5,10,15,20,25],\"y\":[39.160000000000004,37.64,36.5,36.120000000000005,39.54,37.26,39.54,39.54,39.160000000000004,39.160000000000004],\"type\":\"scatter\",\"xaxis\":\"x\",\"yaxis\":\"y\"},{\"line\":{\"shape\":\"spline\"},\"marker\":{\"color\":\"#00CC96\",\"symbol\":\"triangle-right\"},\"name\":\"DPR + Flan-T5 (GOLD)\",\"showlegend\":true,\"x\":[1,2,3,4,5,10,15,20,25],\"y\":[43.25,42.86,43.65,44.05,44.84,46.43,45.629999999999995,45.629999999999995,45.629999999999995,45.629999999999995],\"type\":\"scatter\",\"xaxis\":\"x\",\"yaxis\":\"y\"},{\"line\":{\"dash\":\"dot\",\"shape\":\"spline\"},\"marker\":{\"color\":\"#AB63FA\",\"symbol\":\"star\"},\"name\":\"kNN-LM (ALL)\",\"showlegend\":true,\"x\":[1,2,3,4,5,10,15,20,25],\"y\":[57.410000000000004,63.12,61.980000000000004,62.36000000000001,62.739999999999995,61.6,60.08,59.31999999999999,59.31999999999999,58.17],\"type\":\"scatter\",\"xaxis\":\"x\",\"yaxis\":\"y\"},{\"line\":{\"shape\":\"spline\"},\"marker\":{\"color\":\"#AB63FA\",\"symbol\":\"star\"},\"name\":\"kNN-LM (GOLD)\",\"showlegend\":true,\"x\":[1,2,3,4,5,10,15,20,25],\"y\":[61.9,63.49,65.48,63.89,63.89,61.51,61.9,61.51,61.9,61.9],\"type\":\"scatter\",\"xaxis\":\"x\",\"yaxis\":\"y\"},{\"line\":{\"dash\":\"dot\",\"shape\":\"spline\"},\"marker\":{\"color\":\"#FFA15A\",\"symbol\":\"x\"},\"name\":\"Contriever + ATLAS (ALL)\",\"showlegend\":true,\"x\":[1,2,3,4,5,10,15,20,25],\"y\":[81.75,85.17,85.92999999999999,85.92999999999999,86.31,85.55,85.17,85.17,84.41,84.41],\"type\":\"scatter\",\"xaxis\":\"x\",\"yaxis\":\"y\"},{\"line\":{\"shape\":\"spline\"},\"marker\":{\"color\":\"#FFA15A\",\"symbol\":\"x\"},\"name\":\"Contriever + ATLAS (GOLD)\",\"showlegend\":true,\"x\":[1,2,3,4,5,10,15,20,25],\"y\":[84.52,87.3,87.3,88.49000000000001,88.49000000000001,88.1,88.1,88.1,88.1,88.1],\"type\":\"scatter\",\"xaxis\":\"x\",\"yaxis\":\"y\"},{\"line\":{\"dash\":\"dot\",\"shape\":\"spline\"},\"marker\":{\"color\":\"#636EFA\",\"symbol\":\"circle\"},\"name\":\"REALM (ALL)\",\"showlegend\":false,\"x\":[1,2,3,4,5,10,15,20,25],\"y\":[11.89,12.33,13.139999999999999,13.139999999999999,13.139999999999999,13.139999999999999,13.139999999999999,13.139999999999999,13.139999999999999,13.139999999999999],\"type\":\"scatter\",\"xaxis\":\"x2\",\"yaxis\":\"y2\"},{\"line\":{\"shape\":\"spline\"},\"marker\":{\"color\":\"#636EFA\",\"symbol\":\"circle\"},\"name\":\"REALM (GOLD)\",\"showlegend\":false,\"x\":[1,2,3,4,5,10,15,20,25],\"y\":[19.28,19.84,19.84,19.84,19.84,19.84,19.84,19.84,19.84,19.84],\"type\":\"scatter\",\"xaxis\":\"x2\",\"yaxis\":\"y2\"},{\"line\":{\"dash\":\"dot\",\"shape\":\"spline\"},\"marker\":{\"color\":\"#EF553B\",\"symbol\":\"square\"},\"name\":\"DPR + FiD (ALL)\",\"showlegend\":false,\"x\":[1,2,3,4,5,10,15,20,25],\"y\":[5.52,6.4399999999999995,8.04,9.74,11.35,15.620000000000001,21.240000000000002,24.75,27.32,27.32],\"type\":\"scatter\",\"xaxis\":\"x2\",\"yaxis\":\"y2\"},{\"line\":{\"shape\":\"spline\"},\"marker\":{\"color\":\"#EF553B\",\"symbol\":\"square\"},\"name\":\"DPR + FiD (GOLD)\",\"showlegend\":false,\"x\":[1,2,3,4,5,10,15,20,25],\"y\":[23.34,27.529999999999998,29.43,30.3,30.620000000000005,31.3,31.3,31.3,31.3,31.3],\"type\":\"scatter\",\"xaxis\":\"x2\",\"yaxis\":\"y2\"},{\"line\":{\"dash\":\"dot\",\"shape\":\"spline\"},\"marker\":{\"color\":\"#00CC96\",\"symbol\":\"triangle-right\"},\"name\":\"DPR + Flan-T5 (ALL)\",\"showlegend\":false,\"x\":[1,2,3,4,5,10,15,20,25],\"y\":[9.47,14.799999999999999,16.04,16.439999999999998,19.39,24.45,28.73,32.0,36.19,36.19],\"type\":\"scatter\",\"xaxis\":\"x2\",\"yaxis\":\"y2\"},{\"line\":{\"shape\":\"spline\"},\"marker\":{\"color\":\"#00CC96\",\"symbol\":\"triangle-right\"},\"name\":\"DPR + Flan-T5 (GOLD)\",\"showlegend\":false,\"x\":[1,2,3,4,5,10,15,20,25],\"y\":[21.12,35.480000000000004,40.43,40.33,40.63,41.94,41.9,41.9,41.9,41.9],\"type\":\"scatter\",\"xaxis\":\"x2\",\"yaxis\":\"y2\"},{\"line\":{\"dash\":\"dot\",\"shape\":\"spline\"},\"marker\":{\"color\":\"#AB63FA\",\"symbol\":\"star\"},\"name\":\"kNN-LM (ALL)\",\"showlegend\":false,\"x\":[1,2,3,4,5,10,15,20,25],\"y\":[12.91,13.03,12.64,12.509999999999998,12.1,11.469999999999999,11.17,11.110000000000001,10.77,10.61],\"type\":\"scatter\",\"xaxis\":\"x2\",\"yaxis\":\"y2\"},{\"line\":{\"shape\":\"spline\"},\"marker\":{\"color\":\"#AB63FA\",\"symbol\":\"star\"},\"name\":\"kNN-LM (GOLD)\",\"showlegend\":false,\"x\":[1,2,3,4,5,10,15,20,25],\"y\":[16.98,16.64,16.72,16.43,16.509999999999998,15.879999999999999,15.959999999999999,15.959999999999999,15.959999999999999,15.959999999999999],\"type\":\"scatter\",\"xaxis\":\"x2\",\"yaxis\":\"y2\"},{\"line\":{\"dash\":\"dot\",\"shape\":\"spline\"},\"marker\":{\"color\":\"#FFA15A\",\"symbol\":\"x\"},\"name\":\"Contriever + ATLAS (ALL)\",\"showlegend\":false,\"x\":[1,2,3,4,5,10,15,20,25],\"y\":[18.740000000000002,23.73,27.67,28.389999999999997,29.060000000000002,33.17,33.48,33.14,33.739999999999995,33.739999999999995],\"type\":\"scatter\",\"xaxis\":\"x2\",\"yaxis\":\"y2\"},{\"line\":{\"shape\":\"spline\"},\"marker\":{\"color\":\"#FFA15A\",\"symbol\":\"x\"},\"name\":\"Contriever + ATLAS (GOLD)\",\"showlegend\":false,\"x\":[1,2,3,4,5,10,15,20,25],\"y\":[21.349999999999998,30.23,32.17,32.940000000000005,33.94,33.129999999999995,33.129999999999995,33.129999999999995,33.129999999999995,33.129999999999995],\"type\":\"scatter\",\"xaxis\":\"x2\",\"yaxis\":\"y2\"}],                        {\"template\":{\"data\":{\"histogram2dcontour\":[{\"type\":\"histogram2dcontour\",\"colorbar\":{\"outlinewidth\":0,\"ticks\":\"\"},\"colorscale\":[[0.0,\"#0d0887\"],[0.1111111111111111,\"#46039f\"],[0.2222222222222222,\"#7201a8\"],[0.3333333333333333,\"#9c179e\"],[0.4444444444444444,\"#bd3786\"],[0.5555555555555556,\"#d8576b\"],[0.6666666666666666,\"#ed7953\"],[0.7777777777777778,\"#fb9f3a\"],[0.8888888888888888,\"#fdca26\"],[1.0,\"#f0f921\"]]}],\"choropleth\":[{\"type\":\"choropleth\",\"colorbar\":{\"outlinewidth\":0,\"ticks\":\"\"}}],\"histogram2d\":[{\"type\":\"histogram2d\",\"colorbar\":{\"outlinewidth\":0,\"ticks\":\"\"},\"colorscale\":[[0.0,\"#0d0887\"],[0.1111111111111111,\"#46039f\"],[0.2222222222222222,\"#7201a8\"],[0.3333333333333333,\"#9c179e\"],[0.4444444444444444,\"#bd3786\"],[0.5555555555555556,\"#d8576b\"],[0.6666666666666666,\"#ed7953\"],[0.7777777777777778,\"#fb9f3a\"],[0.8888888888888888,\"#fdca26\"],[1.0,\"#f0f921\"]]}],\"heatmap\":[{\"type\":\"heatmap\",\"colorbar\":{\"outlinewidth\":0,\"ticks\":\"\"},\"colorscale\":[[0.0,\"#0d0887\"],[0.1111111111111111,\"#46039f\"],[0.2222222222222222,\"#7201a8\"],[0.3333333333333333,\"#9c179e\"],[0.4444444444444444,\"#bd3786\"],[0.5555555555555556,\"#d8576b\"],[0.6666666666666666,\"#ed7953\"],[0.7777777777777778,\"#fb9f3a\"],[0.8888888888888888,\"#fdca26\"],[1.0,\"#f0f921\"]]}],\"heatmapgl\":[{\"type\":\"heatmapgl\",\"colorbar\":{\"outlinewidth\":0,\"ticks\":\"\"},\"colorscale\":[[0.0,\"#0d0887\"],[0.1111111111111111,\"#46039f\"],[0.2222222222222222,\"#7201a8\"],[0.3333333333333333,\"#9c179e\"],[0.4444444444444444,\"#bd3786\"],[0.5555555555555556,\"#d8576b\"],[0.6666666666666666,\"#ed7953\"],[0.7777777777777778,\"#fb9f3a\"],[0.8888888888888888,\"#fdca26\"],[1.0,\"#f0f921\"]]}],\"contourcarpet\":[{\"type\":\"contourcarpet\",\"colorbar\":{\"outlinewidth\":0,\"ticks\":\"\"}}],\"contour\":[{\"type\":\"contour\",\"colorbar\":{\"outlinewidth\":0,\"ticks\":\"\"},\"colorscale\":[[0.0,\"#0d0887\"],[0.1111111111111111,\"#46039f\"],[0.2222222222222222,\"#7201a8\"],[0.3333333333333333,\"#9c179e\"],[0.4444444444444444,\"#bd3786\"],[0.5555555555555556,\"#d8576b\"],[0.6666666666666666,\"#ed7953\"],[0.7777777777777778,\"#fb9f3a\"],[0.8888888888888888,\"#fdca26\"],[1.0,\"#f0f921\"]]}],\"surface\":[{\"type\":\"surface\",\"colorbar\":{\"outlinewidth\":0,\"ticks\":\"\"},\"colorscale\":[[0.0,\"#0d0887\"],[0.1111111111111111,\"#46039f\"],[0.2222222222222222,\"#7201a8\"],[0.3333333333333333,\"#9c179e\"],[0.4444444444444444,\"#bd3786\"],[0.5555555555555556,\"#d8576b\"],[0.6666666666666666,\"#ed7953\"],[0.7777777777777778,\"#fb9f3a\"],[0.8888888888888888,\"#fdca26\"],[1.0,\"#f0f921\"]]}],\"mesh3d\":[{\"type\":\"mesh3d\",\"colorbar\":{\"outlinewidth\":0,\"ticks\":\"\"}}],\"scatter\":[{\"fillpattern\":{\"fillmode\":\"overlay\",\"size\":10,\"solidity\":0.2},\"type\":\"scatter\"}],\"parcoords\":[{\"type\":\"parcoords\",\"line\":{\"colorbar\":{\"outlinewidth\":0,\"ticks\":\"\"}}}],\"scatterpolargl\":[{\"type\":\"scatterpolargl\",\"marker\":{\"colorbar\":{\"outlinewidth\":0,\"ticks\":\"\"}}}],\"bar\":[{\"error_x\":{\"color\":\"#2a3f5f\"},\"error_y\":{\"color\":\"#2a3f5f\"},\"marker\":{\"line\":{\"color\":\"#E5ECF6\",\"width\":0.5},\"pattern\":{\"fillmode\":\"overlay\",\"size\":10,\"solidity\":0.2}},\"type\":\"bar\"}],\"scattergeo\":[{\"type\":\"scattergeo\",\"marker\":{\"colorbar\":{\"outlinewidth\":0,\"ticks\":\"\"}}}],\"scatterpolar\":[{\"type\":\"scatterpolar\",\"marker\":{\"colorbar\":{\"outlinewidth\":0,\"ticks\":\"\"}}}],\"histogram\":[{\"marker\":{\"pattern\":{\"fillmode\":\"overlay\",\"size\":10,\"solidity\":0.2}},\"type\":\"histogram\"}],\"scattergl\":[{\"type\":\"scattergl\",\"marker\":{\"colorbar\":{\"outlinewidth\":0,\"ticks\":\"\"}}}],\"scatter3d\":[{\"type\":\"scatter3d\",\"line\":{\"colorbar\":{\"outlinewidth\":0,\"ticks\":\"\"}},\"marker\":{\"colorbar\":{\"outlinewidth\":0,\"ticks\":\"\"}}}],\"scattermapbox\":[{\"type\":\"scattermapbox\",\"marker\":{\"colorbar\":{\"outlinewidth\":0,\"ticks\":\"\"}}}],\"scatterternary\":[{\"type\":\"scatterternary\",\"marker\":{\"colorbar\":{\"outlinewidth\":0,\"ticks\":\"\"}}}],\"scattercarpet\":[{\"type\":\"scattercarpet\",\"marker\":{\"colorbar\":{\"outlinewidth\":0,\"ticks\":\"\"}}}],\"carpet\":[{\"aaxis\":{\"endlinecolor\":\"#2a3f5f\",\"gridcolor\":\"white\",\"linecolor\":\"white\",\"minorgridcolor\":\"white\",\"startlinecolor\":\"#2a3f5f\"},\"baxis\":{\"endlinecolor\":\"#2a3f5f\",\"gridcolor\":\"white\",\"linecolor\":\"white\",\"minorgridcolor\":\"white\",\"startlinecolor\":\"#2a3f5f\"},\"type\":\"carpet\"}],\"table\":[{\"cells\":{\"fill\":{\"color\":\"#EBF0F8\"},\"line\":{\"color\":\"white\"}},\"header\":{\"fill\":{\"color\":\"#C8D4E3\"},\"line\":{\"color\":\"white\"}},\"type\":\"table\"}],\"barpolar\":[{\"marker\":{\"line\":{\"color\":\"#E5ECF6\",\"width\":0.5},\"pattern\":{\"fillmode\":\"overlay\",\"size\":10,\"solidity\":0.2}},\"type\":\"barpolar\"}],\"pie\":[{\"automargin\":true,\"type\":\"pie\"}]},\"layout\":{\"autotypenumbers\":\"strict\",\"colorway\":[\"#636efa\",\"#EF553B\",\"#00cc96\",\"#ab63fa\",\"#FFA15A\",\"#19d3f3\",\"#FF6692\",\"#B6E880\",\"#FF97FF\",\"#FECB52\"],\"font\":{\"color\":\"#2a3f5f\"},\"hovermode\":\"closest\",\"hoverlabel\":{\"align\":\"left\"},\"paper_bgcolor\":\"white\",\"plot_bgcolor\":\"#E5ECF6\",\"polar\":{\"bgcolor\":\"#E5ECF6\",\"angularaxis\":{\"gridcolor\":\"white\",\"linecolor\":\"white\",\"ticks\":\"\"},\"radialaxis\":{\"gridcolor\":\"white\",\"linecolor\":\"white\",\"ticks\":\"\"}},\"ternary\":{\"bgcolor\":\"#E5ECF6\",\"aaxis\":{\"gridcolor\":\"white\",\"linecolor\":\"white\",\"ticks\":\"\"},\"baxis\":{\"gridcolor\":\"white\",\"linecolor\":\"white\",\"ticks\":\"\"},\"caxis\":{\"gridcolor\":\"white\",\"linecolor\":\"white\",\"ticks\":\"\"}},\"coloraxis\":{\"colorbar\":{\"outlinewidth\":0,\"ticks\":\"\"}},\"colorscale\":{\"sequential\":[[0.0,\"#0d0887\"],[0.1111111111111111,\"#46039f\"],[0.2222222222222222,\"#7201a8\"],[0.3333333333333333,\"#9c179e\"],[0.4444444444444444,\"#bd3786\"],[0.5555555555555556,\"#d8576b\"],[0.6666666666666666,\"#ed7953\"],[0.7777777777777778,\"#fb9f3a\"],[0.8888888888888888,\"#fdca26\"],[1.0,\"#f0f921\"]],\"sequentialminus\":[[0.0,\"#0d0887\"],[0.1111111111111111,\"#46039f\"],[0.2222222222222222,\"#7201a8\"],[0.3333333333333333,\"#9c179e\"],[0.4444444444444444,\"#bd3786\"],[0.5555555555555556,\"#d8576b\"],[0.6666666666666666,\"#ed7953\"],[0.7777777777777778,\"#fb9f3a\"],[0.8888888888888888,\"#fdca26\"],[1.0,\"#f0f921\"]],\"diverging\":[[0,\"#8e0152\"],[0.1,\"#c51b7d\"],[0.2,\"#de77ae\"],[0.3,\"#f1b6da\"],[0.4,\"#fde0ef\"],[0.5,\"#f7f7f7\"],[0.6,\"#e6f5d0\"],[0.7,\"#b8e186\"],[0.8,\"#7fbc41\"],[0.9,\"#4d9221\"],[1,\"#276419\"]]},\"xaxis\":{\"gridcolor\":\"white\",\"linecolor\":\"white\",\"ticks\":\"\",\"title\":{\"standoff\":15},\"zerolinecolor\":\"white\",\"automargin\":true,\"zerolinewidth\":2},\"yaxis\":{\"gridcolor\":\"white\",\"linecolor\":\"white\",\"ticks\":\"\",\"title\":{\"standoff\":15},\"zerolinecolor\":\"white\",\"automargin\":true,\"zerolinewidth\":2},\"scene\":{\"xaxis\":{\"backgroundcolor\":\"#E5ECF6\",\"gridcolor\":\"white\",\"linecolor\":\"white\",\"showbackground\":true,\"ticks\":\"\",\"zerolinecolor\":\"white\",\"gridwidth\":2},\"yaxis\":{\"backgroundcolor\":\"#E5ECF6\",\"gridcolor\":\"white\",\"linecolor\":\"white\",\"showbackground\":true,\"ticks\":\"\",\"zerolinecolor\":\"white\",\"gridwidth\":2},\"zaxis\":{\"backgroundcolor\":\"#E5ECF6\",\"gridcolor\":\"white\",\"linecolor\":\"white\",\"showbackground\":true,\"ticks\":\"\",\"zerolinecolor\":\"white\",\"gridwidth\":2}},\"shapedefaults\":{\"line\":{\"color\":\"#2a3f5f\"}},\"annotationdefaults\":{\"arrowcolor\":\"#2a3f5f\",\"arrowhead\":0,\"arrowwidth\":1},\"geo\":{\"bgcolor\":\"white\",\"landcolor\":\"#E5ECF6\",\"subunitcolor\":\"white\",\"showland\":true,\"showlakes\":true,\"lakecolor\":\"white\"},\"title\":{\"x\":0.05},\"mapbox\":{\"style\":\"light\"}}},\"xaxis\":{\"anchor\":\"y\",\"domain\":[0.0,1.0],\"type\":\"log\",\"tickvals\":[1,2,3,4,5,10,15,20,25]},\"yaxis\":{\"anchor\":\"x\",\"domain\":[0.55,1.0],\"title\":{\"text\":\"Target ranking accuracy\"}},\"xaxis2\":{\"anchor\":\"y2\",\"domain\":[0.0,1.0],\"type\":\"log\",\"tickvals\":[1,2,3,4,5,10,15,20,25],\"title\":{\"text\":\"# of retrieved statements\"}},\"yaxis2\":{\"anchor\":\"x2\",\"domain\":[0.0,0.45],\"title\":{\"text\":\"Token overlap F1 score\"}},\"annotations\":[{\"font\":{\"size\":10},\"showarrow\":false,\"text\":\"Language Modeling\",\"x\":0.5,\"xanchor\":\"center\",\"xref\":\"paper\",\"y\":1.0,\"yanchor\":\"bottom\",\"yref\":\"paper\"},{\"font\":{\"size\":10},\"showarrow\":false,\"text\":\"Question Answering\",\"x\":0.5,\"xanchor\":\"center\",\"xref\":\"paper\",\"y\":0.45,\"yanchor\":\"bottom\",\"yref\":\"paper\"}],\"legend\":{\"font\":{\"size\":10},\"orientation\":\"h\",\"yanchor\":\"top\",\"y\":1.35,\"xanchor\":\"left\",\"x\":-0.01},\"font\":{\"size\":10},\"autosize\":false,\"width\":400,\"height\":500,\"margin\":{\"l\":0,\"r\":0,\"b\":0,\"t\":20}},                        {\"responsive\": true}                    ).then(function(){\n",
              "                            \n",
              "var gd = document.getElementById('a891acfa-f2cc-41b9-8830-4f48493bfe54');\n",
              "var x = new MutationObserver(function (mutations, observer) {{\n",
              "        var display = window.getComputedStyle(gd).display;\n",
              "        if (!display || display === 'none') {{\n",
              "            console.log([gd, 'removed!']);\n",
              "            Plotly.purge(gd);\n",
              "            observer.disconnect();\n",
              "        }}\n",
              "}});\n",
              "\n",
              "// Listen for the removal of the full notebook cells\n",
              "var notebookContainer = gd.closest('#notebook-container');\n",
              "if (notebookContainer) {{\n",
              "    x.observe(notebookContainer, {childList: true});\n",
              "}}\n",
              "\n",
              "// Listen for the clearing of the current output cell\n",
              "var outputEl = gd.closest('.output');\n",
              "if (outputEl) {{\n",
              "    x.observe(outputEl, {childList: true});\n",
              "}}\n",
              "\n",
              "                        })                };                            </script>        </div>\n",
              "</body>\n",
              "</html>"
            ]
          },
          "metadata": {}
        }
      ]
    },
    {
      "cell_type": "code",
      "execution_count": 31,
      "metadata": {
        "colab": {
          "base_uri": "https://localhost:8080/",
          "height": 317
        },
        "id": "6xVA1sO5npwY",
        "outputId": "dc12fede-f02f-4519-8dac-b87b0387f082"
      },
      "outputs": [
        {
          "output_type": "display_data",
          "data": {
            "text/html": [
              "<html>\n",
              "<head><meta charset=\"utf-8\" /></head>\n",
              "<body>\n",
              "    <div>            <script src=\"https://cdnjs.cloudflare.com/ajax/libs/mathjax/2.7.5/MathJax.js?config=TeX-AMS-MML_SVG\"></script><script type=\"text/javascript\">if (window.MathJax && window.MathJax.Hub && window.MathJax.Hub.Config) {window.MathJax.Hub.Config({SVG: {font: \"STIX-Web\"}});}</script>                <script type=\"text/javascript\">window.PlotlyConfig = {MathJaxConfig: 'local'};</script>\n",
              "        <script src=\"https://cdn.plot.ly/plotly-2.18.2.min.js\"></script>                <div id=\"b07beff4-0289-47a0-a5e2-16a8be81f9f5\" class=\"plotly-graph-div\" style=\"height:300px; width:400px;\"></div>            <script type=\"text/javascript\">                                    window.PLOTLYENV=window.PLOTLYENV || {};                                    if (document.getElementById(\"b07beff4-0289-47a0-a5e2-16a8be81f9f5\")) {                    Plotly.newPlot(                        \"b07beff4-0289-47a0-a5e2-16a8be81f9f5\",                        [{\"legendrank\":6,\"line\":{\"dash\":\"dot\"},\"marker\":{\"color\":\"black\"},\"mode\":\"lines+text\",\"name\":\"Single Statement\",\"showlegend\":true,\"x\":[1,2,3,4,5,10,15,20,25,100],\"y\":[56.8,56.8,56.8,56.8,56.8,56.8,56.8,56.8,56.8,56.8,56.8],\"type\":\"scatter\"},{\"legendrank\":1,\"line\":{\"shape\":\"spline\"},\"marker\":{\"color\":\"#636EFA\",\"symbol\":\"circle\"},\"name\":\"REALM (GOLD)\",\"x\":[1,2,3,4,5,10,15,20,25,100],\"y\":[19.28,19.84,19.84,19.84,19.84,19.84,19.84,19.84,19.84,19.84],\"type\":\"scatter\"},{\"line\":{\"dash\":\"dot\"},\"marker\":{\"color\":\"#636EFA\",\"symbol\":\"circle\"},\"mode\":\"lines+text\",\"showlegend\":false,\"textposition\":\"top left\",\"x\":[1,2,3,4,5,10,15,20,25,100],\"y\":[56.8,56.8,56.8,56.8,56.8,56.8,56.8,56.8,56.8,56.8,56.8],\"type\":\"scatter\"},{\"legendrank\":2,\"line\":{\"shape\":\"spline\"},\"marker\":{\"color\":\"#EF553B\",\"symbol\":\"square\"},\"name\":\"DPR + FiD (GOLD)\",\"x\":[1,2,3,4,5,10,15,20,25,100],\"y\":[23.34,27.529999999999998,29.43,30.3,30.620000000000005,31.3,31.3,31.3,31.3,31.3],\"type\":\"scatter\"},{\"line\":{\"dash\":\"dot\"},\"marker\":{\"color\":\"#EF553B\",\"symbol\":\"square\"},\"mode\":\"lines+text\",\"showlegend\":false,\"textposition\":\"top left\",\"x\":[1,2,3,4,5,10,15,20,25,100],\"y\":[60.099999999999994,60.099999999999994,60.099999999999994,60.099999999999994,60.099999999999994,60.099999999999994,60.099999999999994,60.099999999999994,60.099999999999994,60.099999999999994,60.099999999999994],\"type\":\"scatter\"},{\"legendrank\":3,\"line\":{\"shape\":\"spline\"},\"marker\":{\"color\":\"#00CC96\",\"symbol\":\"triangle-right\"},\"name\":\"DPR + Flan-T5 (GOLD)\",\"x\":[1,2,3,4,5,10,15,20,25,100],\"y\":[21.12,35.480000000000004,40.43,40.33,40.63,41.94,41.9,41.9,41.9,41.9],\"type\":\"scatter\"},{\"line\":{\"dash\":\"dot\"},\"marker\":{\"color\":\"#00CC96\",\"symbol\":\"triangle-right\"},\"mode\":\"lines+text\",\"showlegend\":false,\"textposition\":\"top left\",\"x\":[1,2,3,4,5,10,15,20,25,100],\"y\":[48.1,48.1,48.1,48.1,48.1,48.1,48.1,48.1,48.1,48.1,48.1],\"type\":\"scatter\"},{\"legendrank\":4,\"line\":{\"shape\":\"spline\"},\"marker\":{\"color\":\"#AB63FA\",\"symbol\":\"star\"},\"name\":\"kNN-LM (GOLD)\",\"x\":[1,2,3,4,5,10,15,20,25,100],\"y\":[16.98,16.64,16.72,16.43,16.509999999999998,15.879999999999999,15.959999999999999,15.959999999999999,15.959999999999999,15.959999999999999],\"type\":\"scatter\"},{\"line\":{\"dash\":\"dot\"},\"marker\":{\"color\":\"#AB63FA\",\"symbol\":\"star\"},\"mode\":\"lines+text\",\"showlegend\":false,\"textposition\":\"top left\",\"x\":[1,2,3,4,5,10,15,20,25,100],\"y\":[32.28,32.28,32.28,32.28,32.28,32.28,32.28,32.28,32.28,32.28,32.28],\"type\":\"scatter\"},{\"legendrank\":5,\"line\":{\"shape\":\"spline\"},\"marker\":{\"color\":\"#FFA15A\",\"symbol\":\"x\"},\"name\":\"Contriever + ATLAS (GOLD)\",\"x\":[1,2,3,4,5,10,15,20,25,100],\"y\":[21.349999999999998,30.23,32.17,32.940000000000005,33.94,33.129999999999995,33.129999999999995,33.129999999999995,33.129999999999995,33.129999999999995],\"type\":\"scatter\"},{\"line\":{\"dash\":\"dot\"},\"marker\":{\"color\":\"#FFA15A\",\"symbol\":\"x\"},\"mode\":\"lines+text\",\"showlegend\":false,\"textposition\":\"top left\",\"x\":[1,2,3,4,5,10,15,20,25,100],\"y\":[61.919999999999995,61.919999999999995,61.919999999999995,61.919999999999995,61.919999999999995,61.919999999999995,61.919999999999995,61.919999999999995,61.919999999999995,61.919999999999995,61.919999999999995],\"type\":\"scatter\"}],                        {\"template\":{\"data\":{\"histogram2dcontour\":[{\"type\":\"histogram2dcontour\",\"colorbar\":{\"outlinewidth\":0,\"ticks\":\"\"},\"colorscale\":[[0.0,\"#0d0887\"],[0.1111111111111111,\"#46039f\"],[0.2222222222222222,\"#7201a8\"],[0.3333333333333333,\"#9c179e\"],[0.4444444444444444,\"#bd3786\"],[0.5555555555555556,\"#d8576b\"],[0.6666666666666666,\"#ed7953\"],[0.7777777777777778,\"#fb9f3a\"],[0.8888888888888888,\"#fdca26\"],[1.0,\"#f0f921\"]]}],\"choropleth\":[{\"type\":\"choropleth\",\"colorbar\":{\"outlinewidth\":0,\"ticks\":\"\"}}],\"histogram2d\":[{\"type\":\"histogram2d\",\"colorbar\":{\"outlinewidth\":0,\"ticks\":\"\"},\"colorscale\":[[0.0,\"#0d0887\"],[0.1111111111111111,\"#46039f\"],[0.2222222222222222,\"#7201a8\"],[0.3333333333333333,\"#9c179e\"],[0.4444444444444444,\"#bd3786\"],[0.5555555555555556,\"#d8576b\"],[0.6666666666666666,\"#ed7953\"],[0.7777777777777778,\"#fb9f3a\"],[0.8888888888888888,\"#fdca26\"],[1.0,\"#f0f921\"]]}],\"heatmap\":[{\"type\":\"heatmap\",\"colorbar\":{\"outlinewidth\":0,\"ticks\":\"\"},\"colorscale\":[[0.0,\"#0d0887\"],[0.1111111111111111,\"#46039f\"],[0.2222222222222222,\"#7201a8\"],[0.3333333333333333,\"#9c179e\"],[0.4444444444444444,\"#bd3786\"],[0.5555555555555556,\"#d8576b\"],[0.6666666666666666,\"#ed7953\"],[0.7777777777777778,\"#fb9f3a\"],[0.8888888888888888,\"#fdca26\"],[1.0,\"#f0f921\"]]}],\"heatmapgl\":[{\"type\":\"heatmapgl\",\"colorbar\":{\"outlinewidth\":0,\"ticks\":\"\"},\"colorscale\":[[0.0,\"#0d0887\"],[0.1111111111111111,\"#46039f\"],[0.2222222222222222,\"#7201a8\"],[0.3333333333333333,\"#9c179e\"],[0.4444444444444444,\"#bd3786\"],[0.5555555555555556,\"#d8576b\"],[0.6666666666666666,\"#ed7953\"],[0.7777777777777778,\"#fb9f3a\"],[0.8888888888888888,\"#fdca26\"],[1.0,\"#f0f921\"]]}],\"contourcarpet\":[{\"type\":\"contourcarpet\",\"colorbar\":{\"outlinewidth\":0,\"ticks\":\"\"}}],\"contour\":[{\"type\":\"contour\",\"colorbar\":{\"outlinewidth\":0,\"ticks\":\"\"},\"colorscale\":[[0.0,\"#0d0887\"],[0.1111111111111111,\"#46039f\"],[0.2222222222222222,\"#7201a8\"],[0.3333333333333333,\"#9c179e\"],[0.4444444444444444,\"#bd3786\"],[0.5555555555555556,\"#d8576b\"],[0.6666666666666666,\"#ed7953\"],[0.7777777777777778,\"#fb9f3a\"],[0.8888888888888888,\"#fdca26\"],[1.0,\"#f0f921\"]]}],\"surface\":[{\"type\":\"surface\",\"colorbar\":{\"outlinewidth\":0,\"ticks\":\"\"},\"colorscale\":[[0.0,\"#0d0887\"],[0.1111111111111111,\"#46039f\"],[0.2222222222222222,\"#7201a8\"],[0.3333333333333333,\"#9c179e\"],[0.4444444444444444,\"#bd3786\"],[0.5555555555555556,\"#d8576b\"],[0.6666666666666666,\"#ed7953\"],[0.7777777777777778,\"#fb9f3a\"],[0.8888888888888888,\"#fdca26\"],[1.0,\"#f0f921\"]]}],\"mesh3d\":[{\"type\":\"mesh3d\",\"colorbar\":{\"outlinewidth\":0,\"ticks\":\"\"}}],\"scatter\":[{\"fillpattern\":{\"fillmode\":\"overlay\",\"size\":10,\"solidity\":0.2},\"type\":\"scatter\"}],\"parcoords\":[{\"type\":\"parcoords\",\"line\":{\"colorbar\":{\"outlinewidth\":0,\"ticks\":\"\"}}}],\"scatterpolargl\":[{\"type\":\"scatterpolargl\",\"marker\":{\"colorbar\":{\"outlinewidth\":0,\"ticks\":\"\"}}}],\"bar\":[{\"error_x\":{\"color\":\"#2a3f5f\"},\"error_y\":{\"color\":\"#2a3f5f\"},\"marker\":{\"line\":{\"color\":\"#E5ECF6\",\"width\":0.5},\"pattern\":{\"fillmode\":\"overlay\",\"size\":10,\"solidity\":0.2}},\"type\":\"bar\"}],\"scattergeo\":[{\"type\":\"scattergeo\",\"marker\":{\"colorbar\":{\"outlinewidth\":0,\"ticks\":\"\"}}}],\"scatterpolar\":[{\"type\":\"scatterpolar\",\"marker\":{\"colorbar\":{\"outlinewidth\":0,\"ticks\":\"\"}}}],\"histogram\":[{\"marker\":{\"pattern\":{\"fillmode\":\"overlay\",\"size\":10,\"solidity\":0.2}},\"type\":\"histogram\"}],\"scattergl\":[{\"type\":\"scattergl\",\"marker\":{\"colorbar\":{\"outlinewidth\":0,\"ticks\":\"\"}}}],\"scatter3d\":[{\"type\":\"scatter3d\",\"line\":{\"colorbar\":{\"outlinewidth\":0,\"ticks\":\"\"}},\"marker\":{\"colorbar\":{\"outlinewidth\":0,\"ticks\":\"\"}}}],\"scattermapbox\":[{\"type\":\"scattermapbox\",\"marker\":{\"colorbar\":{\"outlinewidth\":0,\"ticks\":\"\"}}}],\"scatterternary\":[{\"type\":\"scatterternary\",\"marker\":{\"colorbar\":{\"outlinewidth\":0,\"ticks\":\"\"}}}],\"scattercarpet\":[{\"type\":\"scattercarpet\",\"marker\":{\"colorbar\":{\"outlinewidth\":0,\"ticks\":\"\"}}}],\"carpet\":[{\"aaxis\":{\"endlinecolor\":\"#2a3f5f\",\"gridcolor\":\"white\",\"linecolor\":\"white\",\"minorgridcolor\":\"white\",\"startlinecolor\":\"#2a3f5f\"},\"baxis\":{\"endlinecolor\":\"#2a3f5f\",\"gridcolor\":\"white\",\"linecolor\":\"white\",\"minorgridcolor\":\"white\",\"startlinecolor\":\"#2a3f5f\"},\"type\":\"carpet\"}],\"table\":[{\"cells\":{\"fill\":{\"color\":\"#EBF0F8\"},\"line\":{\"color\":\"white\"}},\"header\":{\"fill\":{\"color\":\"#C8D4E3\"},\"line\":{\"color\":\"white\"}},\"type\":\"table\"}],\"barpolar\":[{\"marker\":{\"line\":{\"color\":\"#E5ECF6\",\"width\":0.5},\"pattern\":{\"fillmode\":\"overlay\",\"size\":10,\"solidity\":0.2}},\"type\":\"barpolar\"}],\"pie\":[{\"automargin\":true,\"type\":\"pie\"}]},\"layout\":{\"autotypenumbers\":\"strict\",\"colorway\":[\"#636efa\",\"#EF553B\",\"#00cc96\",\"#ab63fa\",\"#FFA15A\",\"#19d3f3\",\"#FF6692\",\"#B6E880\",\"#FF97FF\",\"#FECB52\"],\"font\":{\"color\":\"#2a3f5f\"},\"hovermode\":\"closest\",\"hoverlabel\":{\"align\":\"left\"},\"paper_bgcolor\":\"white\",\"plot_bgcolor\":\"#E5ECF6\",\"polar\":{\"bgcolor\":\"#E5ECF6\",\"angularaxis\":{\"gridcolor\":\"white\",\"linecolor\":\"white\",\"ticks\":\"\"},\"radialaxis\":{\"gridcolor\":\"white\",\"linecolor\":\"white\",\"ticks\":\"\"}},\"ternary\":{\"bgcolor\":\"#E5ECF6\",\"aaxis\":{\"gridcolor\":\"white\",\"linecolor\":\"white\",\"ticks\":\"\"},\"baxis\":{\"gridcolor\":\"white\",\"linecolor\":\"white\",\"ticks\":\"\"},\"caxis\":{\"gridcolor\":\"white\",\"linecolor\":\"white\",\"ticks\":\"\"}},\"coloraxis\":{\"colorbar\":{\"outlinewidth\":0,\"ticks\":\"\"}},\"colorscale\":{\"sequential\":[[0.0,\"#0d0887\"],[0.1111111111111111,\"#46039f\"],[0.2222222222222222,\"#7201a8\"],[0.3333333333333333,\"#9c179e\"],[0.4444444444444444,\"#bd3786\"],[0.5555555555555556,\"#d8576b\"],[0.6666666666666666,\"#ed7953\"],[0.7777777777777778,\"#fb9f3a\"],[0.8888888888888888,\"#fdca26\"],[1.0,\"#f0f921\"]],\"sequentialminus\":[[0.0,\"#0d0887\"],[0.1111111111111111,\"#46039f\"],[0.2222222222222222,\"#7201a8\"],[0.3333333333333333,\"#9c179e\"],[0.4444444444444444,\"#bd3786\"],[0.5555555555555556,\"#d8576b\"],[0.6666666666666666,\"#ed7953\"],[0.7777777777777778,\"#fb9f3a\"],[0.8888888888888888,\"#fdca26\"],[1.0,\"#f0f921\"]],\"diverging\":[[0,\"#8e0152\"],[0.1,\"#c51b7d\"],[0.2,\"#de77ae\"],[0.3,\"#f1b6da\"],[0.4,\"#fde0ef\"],[0.5,\"#f7f7f7\"],[0.6,\"#e6f5d0\"],[0.7,\"#b8e186\"],[0.8,\"#7fbc41\"],[0.9,\"#4d9221\"],[1,\"#276419\"]]},\"xaxis\":{\"gridcolor\":\"white\",\"linecolor\":\"white\",\"ticks\":\"\",\"title\":{\"standoff\":15},\"zerolinecolor\":\"white\",\"automargin\":true,\"zerolinewidth\":2},\"yaxis\":{\"gridcolor\":\"white\",\"linecolor\":\"white\",\"ticks\":\"\",\"title\":{\"standoff\":15},\"zerolinecolor\":\"white\",\"automargin\":true,\"zerolinewidth\":2},\"scene\":{\"xaxis\":{\"backgroundcolor\":\"#E5ECF6\",\"gridcolor\":\"white\",\"linecolor\":\"white\",\"showbackground\":true,\"ticks\":\"\",\"zerolinecolor\":\"white\",\"gridwidth\":2},\"yaxis\":{\"backgroundcolor\":\"#E5ECF6\",\"gridcolor\":\"white\",\"linecolor\":\"white\",\"showbackground\":true,\"ticks\":\"\",\"zerolinecolor\":\"white\",\"gridwidth\":2},\"zaxis\":{\"backgroundcolor\":\"#E5ECF6\",\"gridcolor\":\"white\",\"linecolor\":\"white\",\"showbackground\":true,\"ticks\":\"\",\"zerolinecolor\":\"white\",\"gridwidth\":2}},\"shapedefaults\":{\"line\":{\"color\":\"#2a3f5f\"}},\"annotationdefaults\":{\"arrowcolor\":\"#2a3f5f\",\"arrowhead\":0,\"arrowwidth\":1},\"geo\":{\"bgcolor\":\"white\",\"landcolor\":\"#E5ECF6\",\"subunitcolor\":\"white\",\"showland\":true,\"showlakes\":true,\"lakecolor\":\"white\"},\"title\":{\"x\":0.05},\"mapbox\":{\"style\":\"light\"}}},\"xaxis\":{\"type\":\"log\",\"tickvals\":[1,2,3,4,5,10,15,20,25,100],\"title\":{\"text\":\"# of retrieved statements\"}},\"yaxis\":{\"title\":{\"text\":\"Token overlap F1 score\"},\"range\":[10,70]},\"legend\":{\"font\":{\"size\":10},\"orientation\":\"h\",\"yanchor\":\"top\",\"y\":1.35,\"xanchor\":\"left\",\"x\":-0.001},\"font\":{\"size\":10},\"autosize\":false,\"width\":400,\"height\":300,\"margin\":{\"l\":45,\"r\":0,\"b\":0,\"t\":20}},                        {\"responsive\": true}                    ).then(function(){\n",
              "                            \n",
              "var gd = document.getElementById('b07beff4-0289-47a0-a5e2-16a8be81f9f5');\n",
              "var x = new MutationObserver(function (mutations, observer) {{\n",
              "        var display = window.getComputedStyle(gd).display;\n",
              "        if (!display || display === 'none') {{\n",
              "            console.log([gd, 'removed!']);\n",
              "            Plotly.purge(gd);\n",
              "            observer.disconnect();\n",
              "        }}\n",
              "}});\n",
              "\n",
              "// Listen for the removal of the full notebook cells\n",
              "var notebookContainer = gd.closest('#notebook-container');\n",
              "if (notebookContainer) {{\n",
              "    x.observe(notebookContainer, {childList: true});\n",
              "}}\n",
              "\n",
              "// Listen for the clearing of the current output cell\n",
              "var outputEl = gd.closest('.output');\n",
              "if (outputEl) {{\n",
              "    x.observe(outputEl, {childList: true});\n",
              "}}\n",
              "\n",
              "                        })                };                            </script>        </div>\n",
              "</body>\n",
              "</html>"
            ]
          },
          "metadata": {}
        }
      ],
      "source": [
        "# Single Statement vs Gold Statements\n",
        "\n",
        "single = {}\n",
        "single['REALM'] = 0.5680\n",
        "single['DPR + FiD'] = 0.6010\n",
        "single['DPR + Flan-T5'] = 0.4810\n",
        "single['kNN-LM'] = 0.3228 \n",
        "single['Contriever + ATLAS'] = 0.6192\n",
        "\n",
        "key=['all', 'gold']\n",
        "\n",
        "single_x = np.array([0.5, 1, 2, 3, 4, 5, 10, 15, 20, 25])\n",
        "\n",
        "fig = go.Figure()\n",
        "\n",
        "fig.add_trace(go.Scatter(x=x, y=[single['REALM']*100] * (1+ len(all_vs_gold_qa['REALM'][key[1]])), mode=\"lines+text\", line_dash='dot', marker_color='black', name='Single Statement', showlegend=True, legendrank=6))\n",
        "for i, (model, ys) in enumerate(all_vs_gold_qa.items()):\n",
        "    fig.add_trace(go.Scatter(x=x, y=[y*100 for y in ys[key[1]]], name=model + ' ({})'.format(key[1].upper()), line_shape='spline', marker_symbol=symbols[i], marker_color=colors[i], legendrank=i+1))\n",
        "    fig.add_trace(go.Scatter(x=x, y=[single[model]*100] * (1+ len(ys[key[1]])), mode=\"lines+text\", line_dash='dot', marker_symbol=symbols[i], marker_color=colors[i], textposition=\"top left\", showlegend=False))\n",
        "\n",
        "\n",
        "fig.update_xaxes(type=\"log\", tickvals=x)\n",
        "fig.update_layout(\n",
        "                  yaxis_title='Token overlap F1 score',\n",
        "                  xaxis_title='# of retrieved statements')\n",
        "fig.update_yaxes(range=[10, 70])\n",
        "fig.update_layout(legend=dict(\n",
        "    orientation=\"h\",\n",
        "    yanchor=\"top\",\n",
        "    y=1.35,\n",
        "    xanchor=\"left\",\n",
        "    x=-0.001,\n",
        "    font_size=10\n",
        "))\n",
        "fig.update_layout(font_size=10)\n",
        "fig.update_layout(autosize=False, width=400, height=300)\n",
        "fig.update_annotations(font=dict(size=10))\n",
        "fig.update_layout(margin=dict(l=45,r=0,b=0,t=20))\n",
        "fig.show()"
      ],
      "id": "6xVA1sO5npwY"
    }
  ],
  "metadata": {
    "colab": {
      "provenance": [],
      "collapsed_sections": [
        "a9484246",
        "1c8e8e23",
        "6980292e"
      ]
    },
    "kernelspec": {
      "display_name": "Python 3 (ipykernel)",
      "language": "python",
      "name": "python3"
    },
    "language_info": {
      "codemirror_mode": {
        "name": "ipython",
        "version": 3
      },
      "file_extension": ".py",
      "mimetype": "text/x-python",
      "name": "python",
      "nbconvert_exporter": "python",
      "pygments_lexer": "ipython3",
      "version": "3.9.7"
    }
  },
  "nbformat": 4,
  "nbformat_minor": 5
}